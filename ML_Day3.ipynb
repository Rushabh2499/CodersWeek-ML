{
  "nbformat": 4,
  "nbformat_minor": 0,
  "metadata": {
    "colab": {
      "name": "ML-Day3.ipynb",
      "provenance": [],
      "collapsed_sections": [],
      "authorship_tag": "ABX9TyPLcM5e+GKbKMf3PBo/8ZOr",
      "include_colab_link": true
    },
    "kernelspec": {
      "name": "python3",
      "display_name": "Python 3"
    }
  },
  "cells": [
    {
      "cell_type": "markdown",
      "metadata": {
        "id": "view-in-github",
        "colab_type": "text"
      },
      "source": [
        "<a href=\"https://colab.research.google.com/github/Rushabh2499/CodersWeek-ML/blob/master/ML_Day3.ipynb\" target=\"_parent\"><img src=\"https://colab.research.google.com/assets/colab-badge.svg\" alt=\"Open In Colab\"/></a>"
      ]
    },
    {
      "cell_type": "code",
      "metadata": {
        "id": "Vrlre1LgEPA2",
        "colab_type": "code",
        "colab": {}
      },
      "source": [
        "import numpy as np\n",
        "import matplotlib.pyplot as plt\n",
        "import pandas as pd"
      ],
      "execution_count": 0,
      "outputs": []
    },
    {
      "cell_type": "code",
      "metadata": {
        "id": "mQRlcvd7Eqmj",
        "colab_type": "code",
        "outputId": "10aed520-9c4d-43cc-bb6d-78cdf580377e",
        "colab": {
          "base_uri": "https://localhost:8080/",
          "height": 208
        }
      },
      "source": [
        "!wget http://iali.in/datasets/mushrooms.csv"
      ],
      "execution_count": 9,
      "outputs": [
        {
          "output_type": "stream",
          "text": [
            "--2020-06-04 06:33:09--  http://iali.in/datasets/mushrooms.csv\n",
            "Resolving iali.in (iali.in)... 156.67.222.125\n",
            "Connecting to iali.in (iali.in)|156.67.222.125|:80... connected.\n",
            "HTTP request sent, awaiting response... 200 OK\n",
            "Length: 374003 (365K) [text/plain]\n",
            "Saving to: ‘mushrooms.csv.1’\n",
            "\n",
            "\rmushrooms.csv.1       0%[                    ]       0  --.-KB/s               \rmushrooms.csv.1      26%[====>               ]  97.09K   431KB/s               \rmushrooms.csv.1     100%[===================>] 365.24K  1.18MB/s    in 0.3s    \n",
            "\n",
            "2020-06-04 06:33:10 (1.18 MB/s) - ‘mushrooms.csv.1’ saved [374003/374003]\n",
            "\n"
          ],
          "name": "stdout"
        }
      ]
    },
    {
      "cell_type": "code",
      "metadata": {
        "id": "ja2y--P8Esx8",
        "colab_type": "code",
        "colab": {}
      },
      "source": [
        "dataset = pd.read_csv(\"http://iali.in/datasets/mushrooms.csv\")"
      ],
      "execution_count": 0,
      "outputs": []
    },
    {
      "cell_type": "code",
      "metadata": {
        "id": "kxKSmm5WlDO3",
        "colab_type": "code",
        "outputId": "e7d26ffb-3558-42c4-f19c-87e816e9399e",
        "colab": {
          "base_uri": "https://localhost:8080/",
          "height": 247
        }
      },
      "source": [
        "dataset.describe()"
      ],
      "execution_count": 0,
      "outputs": [
        {
          "output_type": "execute_result",
          "data": {
            "text/html": [
              "<div>\n",
              "<style scoped>\n",
              "    .dataframe tbody tr th:only-of-type {\n",
              "        vertical-align: middle;\n",
              "    }\n",
              "\n",
              "    .dataframe tbody tr th {\n",
              "        vertical-align: top;\n",
              "    }\n",
              "\n",
              "    .dataframe thead th {\n",
              "        text-align: right;\n",
              "    }\n",
              "</style>\n",
              "<table border=\"1\" class=\"dataframe\">\n",
              "  <thead>\n",
              "    <tr style=\"text-align: right;\">\n",
              "      <th></th>\n",
              "      <th>class</th>\n",
              "      <th>cap-shape</th>\n",
              "      <th>cap-surface</th>\n",
              "      <th>cap-color</th>\n",
              "      <th>bruises</th>\n",
              "      <th>odor</th>\n",
              "      <th>gill-attachment</th>\n",
              "      <th>gill-spacing</th>\n",
              "      <th>gill-size</th>\n",
              "      <th>gill-color</th>\n",
              "      <th>stalk-shape</th>\n",
              "      <th>stalk-root</th>\n",
              "      <th>stalk-surface-above-ring</th>\n",
              "      <th>stalk-surface-below-ring</th>\n",
              "      <th>stalk-color-above-ring</th>\n",
              "      <th>stalk-color-below-ring</th>\n",
              "      <th>veil-type</th>\n",
              "      <th>veil-color</th>\n",
              "      <th>ring-number</th>\n",
              "      <th>ring-type</th>\n",
              "      <th>spore-print-color</th>\n",
              "      <th>population</th>\n",
              "      <th>habitat</th>\n",
              "    </tr>\n",
              "  </thead>\n",
              "  <tbody>\n",
              "    <tr>\n",
              "      <th>count</th>\n",
              "      <td>8124</td>\n",
              "      <td>8124</td>\n",
              "      <td>8124</td>\n",
              "      <td>8124</td>\n",
              "      <td>8124</td>\n",
              "      <td>8124</td>\n",
              "      <td>8124</td>\n",
              "      <td>8124</td>\n",
              "      <td>8124</td>\n",
              "      <td>8124</td>\n",
              "      <td>8124</td>\n",
              "      <td>8124</td>\n",
              "      <td>8124</td>\n",
              "      <td>8124</td>\n",
              "      <td>8124</td>\n",
              "      <td>8124</td>\n",
              "      <td>8124</td>\n",
              "      <td>8124</td>\n",
              "      <td>8124</td>\n",
              "      <td>8124</td>\n",
              "      <td>8124</td>\n",
              "      <td>8124</td>\n",
              "      <td>8124</td>\n",
              "    </tr>\n",
              "    <tr>\n",
              "      <th>unique</th>\n",
              "      <td>2</td>\n",
              "      <td>6</td>\n",
              "      <td>4</td>\n",
              "      <td>10</td>\n",
              "      <td>2</td>\n",
              "      <td>9</td>\n",
              "      <td>2</td>\n",
              "      <td>2</td>\n",
              "      <td>2</td>\n",
              "      <td>12</td>\n",
              "      <td>2</td>\n",
              "      <td>5</td>\n",
              "      <td>4</td>\n",
              "      <td>4</td>\n",
              "      <td>9</td>\n",
              "      <td>9</td>\n",
              "      <td>1</td>\n",
              "      <td>4</td>\n",
              "      <td>3</td>\n",
              "      <td>5</td>\n",
              "      <td>9</td>\n",
              "      <td>6</td>\n",
              "      <td>7</td>\n",
              "    </tr>\n",
              "    <tr>\n",
              "      <th>top</th>\n",
              "      <td>e</td>\n",
              "      <td>x</td>\n",
              "      <td>y</td>\n",
              "      <td>n</td>\n",
              "      <td>f</td>\n",
              "      <td>n</td>\n",
              "      <td>f</td>\n",
              "      <td>c</td>\n",
              "      <td>b</td>\n",
              "      <td>b</td>\n",
              "      <td>t</td>\n",
              "      <td>b</td>\n",
              "      <td>s</td>\n",
              "      <td>s</td>\n",
              "      <td>w</td>\n",
              "      <td>w</td>\n",
              "      <td>p</td>\n",
              "      <td>w</td>\n",
              "      <td>o</td>\n",
              "      <td>p</td>\n",
              "      <td>w</td>\n",
              "      <td>v</td>\n",
              "      <td>d</td>\n",
              "    </tr>\n",
              "    <tr>\n",
              "      <th>freq</th>\n",
              "      <td>4208</td>\n",
              "      <td>3656</td>\n",
              "      <td>3244</td>\n",
              "      <td>2284</td>\n",
              "      <td>4748</td>\n",
              "      <td>3528</td>\n",
              "      <td>7914</td>\n",
              "      <td>6812</td>\n",
              "      <td>5612</td>\n",
              "      <td>1728</td>\n",
              "      <td>4608</td>\n",
              "      <td>3776</td>\n",
              "      <td>5176</td>\n",
              "      <td>4936</td>\n",
              "      <td>4464</td>\n",
              "      <td>4384</td>\n",
              "      <td>8124</td>\n",
              "      <td>7924</td>\n",
              "      <td>7488</td>\n",
              "      <td>3968</td>\n",
              "      <td>2388</td>\n",
              "      <td>4040</td>\n",
              "      <td>3148</td>\n",
              "    </tr>\n",
              "  </tbody>\n",
              "</table>\n",
              "</div>"
            ],
            "text/plain": [
              "       class cap-shape cap-surface  ... spore-print-color population habitat\n",
              "count   8124      8124        8124  ...              8124       8124    8124\n",
              "unique     2         6           4  ...                 9          6       7\n",
              "top        e         x           y  ...                 w          v       d\n",
              "freq    4208      3656        3244  ...              2388       4040    3148\n",
              "\n",
              "[4 rows x 23 columns]"
            ]
          },
          "metadata": {
            "tags": []
          },
          "execution_count": 64
        }
      ]
    },
    {
      "cell_type": "code",
      "metadata": {
        "id": "MzmoCzLlBbAp",
        "colab_type": "code",
        "colab": {}
      },
      "source": [
        "#a1 = pd.DataFrame({'clas':dataset.iloc[:,0].values})\n",
        "#b1 = pd.DataFrame({'class':dataset.iloc[:,1].values})\n",
        "#c1 = pd.DataFrame({'class':dataset.iloc[:,2].values})\n",
        "#d1 = pd.DataFrame({'class':dataset.iloc[:,3].values})\n",
        "#e1 = pd.DataFrame({'class':dataset.iloc[:,4].values})\n",
        "\n",
        "\n",
        "\n",
        "#from sklearn import preprocessing \n",
        "#label_encoder = preprocessing.LabelEncoder() \n",
        "\n",
        "#a1[\"class\"]= label_encoder.fit_transform(a1[\"clas\"])\n",
        "#b1[\"cap-shape\"]= label_encoder.fit_transform(b1[\"class\"])\n",
        "#c1[\"cap-surface\"]= label_encoder.fit_transform(c1[\"class\"])\n",
        "#d1[\"cap-color\"]= label_encoder.fit_transform(d1[\"class\"])\n",
        "#e1[\"bruises\"]= label_encoder.fit_transform(e1[\"class\"])\n",
        "\n",
        "\n",
        "\n",
        "#b = b1.iloc[:,1].values\n",
        "#c = c1.iloc[:,1].values\n",
        "#d = d1.iloc[:,1].values\n",
        "#a = a1.iloc[:,1].values\n",
        "#e = e1.iloc[:,1].values\n",
        "\n",
        "\n",
        "#m=np.array([b,c,d,e,])\n",
        "#n=a\n",
        "#m=np.transpose(x)\n"
      ],
      "execution_count": 0,
      "outputs": []
    },
    {
      "cell_type": "code",
      "metadata": {
        "id": "bllHIVjV_pXu",
        "colab_type": "code",
        "colab": {}
      },
      "source": [
        "from sklearn import preprocessing\n",
        "labelencoder = preprocessing.LabelEncoder()\n",
        "\n",
        "for col in dataset.columns:\n",
        "  dataset[col] = labelencoder.fit_transform(dataset[col])\n",
        "\n",
        "x = dataset.iloc[:,2:20]\n",
        "y = dataset.iloc[:,0]"
      ],
      "execution_count": 0,
      "outputs": []
    },
    {
      "cell_type": "code",
      "metadata": {
        "id": "WPWJKKTXx74_",
        "colab_type": "code",
        "colab": {}
      },
      "source": [
        "from sklearn.model_selection import train_test_split\n",
        "\n",
        "x_train, x_test, y_train, y_test = train_test_split(x, y, test_size=0.2)"
      ],
      "execution_count": 0,
      "outputs": []
    },
    {
      "cell_type": "code",
      "metadata": {
        "id": "K-_1g2MAzfGf",
        "colab_type": "code",
        "colab": {}
      },
      "source": [
        "from sklearn import tree\n",
        "\n",
        "clf = tree.DecisionTreeClassifier()\n",
        "\n",
        "clf = clf.fit(x_train, y_train)"
      ],
      "execution_count": 0,
      "outputs": []
    },
    {
      "cell_type": "code",
      "metadata": {
        "id": "s-qAmHmn_2C1",
        "colab_type": "code",
        "outputId": "f465fdfd-d681-4ce0-9d87-df2ff072b327",
        "colab": {
          "base_uri": "https://localhost:8080/",
          "height": 1000
        }
      },
      "source": [
        "tree.plot_tree(clf)"
      ],
      "execution_count": 64,
      "outputs": [
        {
          "output_type": "execute_result",
          "data": {
            "text/plain": [
              "[Text(122.98775510204082, 209.6742857142857, 'X[7] <= 3.5\\ngini = 0.5\\nsamples = 6499\\nvalue = [3350, 3149]'),\n",
              " Text(81.99183673469388, 194.14285714285714, 'X[9] <= 1.5\\ngini = 0.267\\nsamples = 2640\\nvalue = [419, 2221]'),\n",
              " Text(68.3265306122449, 178.61142857142858, 'X[16] <= 1.5\\ngini = 0.116\\nsamples = 2367\\nvalue = [146, 2221]'),\n",
              " Text(40.99591836734694, 163.07999999999998, 'X[11] <= 0.5\\ngini = 0.006\\nsamples = 2209\\nvalue = [7, 2202]'),\n",
              " Text(27.33061224489796, 147.54857142857142, 'X[9] <= 0.5\\ngini = 0.263\\nsamples = 45\\nvalue = [7, 38]'),\n",
              " Text(13.66530612244898, 132.01714285714286, 'gini = 0.0\\nsamples = 7\\nvalue = [7, 0]'),\n",
              " Text(40.99591836734694, 132.01714285714286, 'gini = 0.0\\nsamples = 38\\nvalue = [0, 38]'),\n",
              " Text(54.66122448979592, 147.54857142857142, 'gini = 0.0\\nsamples = 2164\\nvalue = [0, 2164]'),\n",
              " Text(95.65714285714286, 163.07999999999998, 'X[9] <= 0.5\\ngini = 0.212\\nsamples = 158\\nvalue = [139, 19]'),\n",
              " Text(81.99183673469388, 147.54857142857142, 'gini = 0.0\\nsamples = 139\\nvalue = [139, 0]'),\n",
              " Text(109.32244897959184, 147.54857142857142, 'gini = 0.0\\nsamples = 19\\nvalue = [0, 19]'),\n",
              " Text(95.65714285714286, 178.61142857142858, 'gini = 0.0\\nsamples = 273\\nvalue = [273, 0]'),\n",
              " Text(163.98367346938775, 194.14285714285714, 'X[3] <= 2.5\\ngini = 0.365\\nsamples = 3859\\nvalue = [2931, 928]'),\n",
              " Text(136.6530612244898, 178.61142857142858, 'X[3] <= 0.5\\ngini = 0.412\\nsamples = 872\\nvalue = [253, 619]'),\n",
              " Text(122.98775510204082, 163.07999999999998, 'gini = 0.0\\nsamples = 253\\nvalue = [253, 0]'),\n",
              " Text(150.31836734693877, 163.07999999999998, 'gini = 0.0\\nsamples = 619\\nvalue = [0, 619]'),\n",
              " Text(191.31428571428572, 178.61142857142858, 'X[3] <= 5.5\\ngini = 0.185\\nsamples = 2987\\nvalue = [2678, 309]'),\n",
              " Text(177.64897959183673, 163.07999999999998, 'X[12] <= 1.5\\ngini = 0.069\\nsamples = 2778\\nvalue = [2678, 100]'),\n",
              " Text(163.98367346938775, 147.54857142857142, 'gini = 0.0\\nsamples = 30\\nvalue = [0, 30]'),\n",
              " Text(191.31428571428572, 147.54857142857142, 'X[13] <= 7.5\\ngini = 0.05\\nsamples = 2748\\nvalue = [2678, 70]'),\n",
              " Text(177.64897959183673, 132.01714285714286, 'X[1] <= 0.5\\ngini = 0.037\\nsamples = 2730\\nvalue = [2678, 52]'),\n",
              " Text(143.4857142857143, 116.48571428571428, 'X[17] <= 2.0\\ngini = 0.495\\nsamples = 29\\nvalue = [16, 13]'),\n",
              " Text(129.8204081632653, 100.9542857142857, 'gini = 0.0\\nsamples = 16\\nvalue = [16, 0]'),\n",
              " Text(157.15102040816328, 100.9542857142857, 'gini = 0.0\\nsamples = 13\\nvalue = [0, 13]'),\n",
              " Text(211.8122448979592, 116.48571428571428, 'X[1] <= 4.5\\ngini = 0.028\\nsamples = 2701\\nvalue = [2662, 39]'),\n",
              " Text(184.48163265306124, 100.9542857142857, 'X[11] <= 2.5\\ngini = 0.005\\nsamples = 2150\\nvalue = [2145, 5]'),\n",
              " Text(170.81632653061226, 85.42285714285714, 'gini = 0.0\\nsamples = 2098\\nvalue = [2098, 0]'),\n",
              " Text(198.14693877551022, 85.42285714285714, 'X[10] <= 1.5\\ngini = 0.174\\nsamples = 52\\nvalue = [47, 5]'),\n",
              " Text(184.48163265306124, 69.89142857142858, 'gini = 0.0\\nsamples = 5\\nvalue = [0, 5]'),\n",
              " Text(211.8122448979592, 69.89142857142858, 'gini = 0.0\\nsamples = 47\\nvalue = [47, 0]'),\n",
              " Text(239.14285714285714, 100.9542857142857, 'X[7] <= 7.5\\ngini = 0.116\\nsamples = 551\\nvalue = [517, 34]'),\n",
              " Text(225.47755102040816, 85.42285714285714, 'gini = 0.0\\nsamples = 361\\nvalue = [361, 0]'),\n",
              " Text(252.80816326530612, 85.42285714285714, 'X[7] <= 8.5\\ngini = 0.294\\nsamples = 190\\nvalue = [156, 34]'),\n",
              " Text(239.14285714285714, 69.89142857142858, 'gini = 0.0\\nsamples = 12\\nvalue = [0, 12]'),\n",
              " Text(266.47346938775513, 69.89142857142858, 'X[3] <= 4.0\\ngini = 0.217\\nsamples = 178\\nvalue = [156, 22]'),\n",
              " Text(252.80816326530612, 54.359999999999985, 'gini = 0.0\\nsamples = 67\\nvalue = [67, 0]'),\n",
              " Text(280.1387755102041, 54.359999999999985, 'X[9] <= 0.5\\ngini = 0.318\\nsamples = 111\\nvalue = [89, 22]'),\n",
              " Text(252.80816326530612, 38.82857142857142, 'X[1] <= 8.5\\ngini = 0.145\\nsamples = 89\\nvalue = [82, 7]'),\n",
              " Text(239.14285714285714, 23.29714285714286, 'gini = 0.0\\nsamples = 82\\nvalue = [82, 0]'),\n",
              " Text(266.47346938775513, 23.29714285714286, 'gini = 0.0\\nsamples = 7\\nvalue = [0, 7]'),\n",
              " Text(307.46938775510205, 38.82857142857142, 'X[1] <= 6.5\\ngini = 0.434\\nsamples = 22\\nvalue = [7, 15]'),\n",
              " Text(293.8040816326531, 23.29714285714286, 'X[0] <= 2.5\\ngini = 0.5\\nsamples = 14\\nvalue = [7, 7]'),\n",
              " Text(280.1387755102041, 7.765714285714267, 'gini = 0.49\\nsamples = 7\\nvalue = [3, 4]'),\n",
              " Text(307.46938775510205, 7.765714285714267, 'gini = 0.49\\nsamples = 7\\nvalue = [4, 3]'),\n",
              " Text(321.13469387755106, 23.29714285714286, 'gini = 0.0\\nsamples = 8\\nvalue = [0, 8]'),\n",
              " Text(204.9795918367347, 132.01714285714286, 'gini = 0.0\\nsamples = 18\\nvalue = [0, 18]'),\n",
              " Text(204.9795918367347, 163.07999999999998, 'gini = 0.0\\nsamples = 209\\nvalue = [0, 209]')]"
            ]
          },
          "metadata": {
            "tags": []
          },
          "execution_count": 64
        },
        {
          "output_type": "display_data",
          "data": {
            "image/png": "[encoded data removed]",
            "text/plain": [
              "<Figure size 432x288 with 1 Axes>"
            ]
          },
          "metadata": {
            "tags": [],
            "needs_background": "light"
          }
        }
      ]
    },
    {
      "cell_type": "code",
      "metadata": {
        "id": "pPUQVo7e_6Wn",
        "colab_type": "code",
        "colab": {}
      },
      "source": [
        "y_pred = clf.predict(x_test)"
      ],
      "execution_count": 0,
      "outputs": []
    },
    {
      "cell_type": "code",
      "metadata": {
        "id": "-NLDwlM4ACx4",
        "colab_type": "code",
        "outputId": "152105a7-8bdb-423e-f42a-78ba0b4c97e5",
        "colab": {
          "base_uri": "https://localhost:8080/",
          "height": 34
        }
      },
      "source": [
        "from sklearn.metrics import accuracy_score\n",
        "\n",
        "accuracy_score(y_pred, y_test)"
      ],
      "execution_count": 66,
      "outputs": [
        {
          "output_type": "execute_result",
          "data": {
            "text/plain": [
              "0.9987692307692307"
            ]
          },
          "metadata": {
            "tags": []
          },
          "execution_count": 66
        }
      ]
    },
    {
      "cell_type": "code",
      "metadata": {
        "id": "gdIWaxmQAMuU",
        "colab_type": "code",
        "outputId": "b1bab341-0998-4b9f-8042-6152cb11b46d",
        "colab": {
          "base_uri": "https://localhost:8080/",
          "height": 54
        }
      },
      "source": [
        "from sklearn.metrics import classification_report\n",
        "\n",
        "classes = ['0','1']\n",
        "\n",
        "classification_report(y_test, y_pred, target_names=classes)"
      ],
      "execution_count": 60,
      "outputs": [
        {
          "output_type": "execute_result",
          "data": {
            "text/plain": [
              "'              precision    recall  f1-score   support\\n\\n           0       0.99      1.00      0.99       831\\n           1       1.00      0.99      0.99       794\\n\\n    accuracy                           0.99      1625\\n   macro avg       0.99      0.99      0.99      1625\\nweighted avg       0.99      0.99      0.99      1625\\n'"
            ]
          },
          "metadata": {
            "tags": []
          },
          "execution_count": 60
        }
      ]
    },
    {
      "cell_type": "code",
      "metadata": {
        "id": "h6vmLomvA4PT",
        "colab_type": "code",
        "outputId": "5e29ef0f-fcde-4762-8f54-6136c1e04010",
        "colab": {
          "base_uri": "https://localhost:8080/",
          "height": 424
        }
      },
      "source": [
        "df = pd.DataFrame({'Actual':y_test, 'Predicted':y_pred})\n",
        "df"
      ],
      "execution_count": 67,
      "outputs": [
        {
          "output_type": "execute_result",
          "data": {
            "text/html": [
              "<div>\n",
              "<style scoped>\n",
              "    .dataframe tbody tr th:only-of-type {\n",
              "        vertical-align: middle;\n",
              "    }\n",
              "\n",
              "    .dataframe tbody tr th {\n",
              "        vertical-align: top;\n",
              "    }\n",
              "\n",
              "    .dataframe thead th {\n",
              "        text-align: right;\n",
              "    }\n",
              "</style>\n",
              "<table border=\"1\" class=\"dataframe\">\n",
              "  <thead>\n",
              "    <tr style=\"text-align: right;\">\n",
              "      <th></th>\n",
              "      <th>Actual</th>\n",
              "      <th>Predicted</th>\n",
              "    </tr>\n",
              "  </thead>\n",
              "  <tbody>\n",
              "    <tr>\n",
              "      <th>4276</th>\n",
              "      <td>0</td>\n",
              "      <td>0</td>\n",
              "    </tr>\n",
              "    <tr>\n",
              "      <th>4359</th>\n",
              "      <td>1</td>\n",
              "      <td>1</td>\n",
              "    </tr>\n",
              "    <tr>\n",
              "      <th>4907</th>\n",
              "      <td>1</td>\n",
              "      <td>1</td>\n",
              "    </tr>\n",
              "    <tr>\n",
              "      <th>3593</th>\n",
              "      <td>0</td>\n",
              "      <td>0</td>\n",
              "    </tr>\n",
              "    <tr>\n",
              "      <th>5364</th>\n",
              "      <td>1</td>\n",
              "      <td>1</td>\n",
              "    </tr>\n",
              "    <tr>\n",
              "      <th>...</th>\n",
              "      <td>...</td>\n",
              "      <td>...</td>\n",
              "    </tr>\n",
              "    <tr>\n",
              "      <th>681</th>\n",
              "      <td>0</td>\n",
              "      <td>0</td>\n",
              "    </tr>\n",
              "    <tr>\n",
              "      <th>4393</th>\n",
              "      <td>1</td>\n",
              "      <td>1</td>\n",
              "    </tr>\n",
              "    <tr>\n",
              "      <th>4118</th>\n",
              "      <td>1</td>\n",
              "      <td>1</td>\n",
              "    </tr>\n",
              "    <tr>\n",
              "      <th>7275</th>\n",
              "      <td>1</td>\n",
              "      <td>1</td>\n",
              "    </tr>\n",
              "    <tr>\n",
              "      <th>5811</th>\n",
              "      <td>1</td>\n",
              "      <td>1</td>\n",
              "    </tr>\n",
              "  </tbody>\n",
              "</table>\n",
              "<p>1625 rows × 2 columns</p>\n",
              "</div>"
            ],
            "text/plain": [
              "      Actual  Predicted\n",
              "4276       0          0\n",
              "4359       1          1\n",
              "4907       1          1\n",
              "3593       0          0\n",
              "5364       1          1\n",
              "...      ...        ...\n",
              "681        0          0\n",
              "4393       1          1\n",
              "4118       1          1\n",
              "7275       1          1\n",
              "5811       1          1\n",
              "\n",
              "[1625 rows x 2 columns]"
            ]
          },
          "metadata": {
            "tags": []
          },
          "execution_count": 67
        }
      ]
    }
  ]
}