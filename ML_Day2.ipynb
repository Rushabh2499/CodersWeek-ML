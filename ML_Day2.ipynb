{
  "nbformat": 4,
  "nbformat_minor": 0,
  "metadata": {
    "colab": {
      "name": "ML-Day2.ipynb",
      "provenance": [],
      "authorship_tag": "ABX9TyMaLcLfNZqktLPO+Zk2WQaw",
      "include_colab_link": true
    },
    "kernelspec": {
      "name": "python3",
      "display_name": "Python 3"
    }
  },
  "cells": [
    {
      "cell_type": "markdown",
      "metadata": {
        "id": "view-in-github",
        "colab_type": "text"
      },
      "source": [
        "<a href=\"https://colab.research.google.com/github/Rushabh2499/CodersWeek-ML/blob/master/ML_Day2.ipynb\" target=\"_parent\"><img src=\"https://colab.research.google.com/assets/colab-badge.svg\" alt=\"Open In Colab\"/></a>"
      ]
    },
    {
      "cell_type": "markdown",
      "metadata": {
        "id": "s1x-kZ3OrUJw",
        "colab_type": "text"
      },
      "source": [
        "It is a discrete classification"
      ]
    },
    {
      "cell_type": "code",
      "metadata": {
        "id": "EoJGI9S3rkKo",
        "colab_type": "code",
        "colab": {}
      },
      "source": [
        "import numpy as np\n",
        "import matplotlib.pyplot as plt\n",
        "import pandas as pd"
      ],
      "execution_count": 0,
      "outputs": []
    },
    {
      "cell_type": "markdown",
      "metadata": {
        "id": "P7VqfmOQr3WQ",
        "colab_type": "text"
      },
      "source": [
        "importing dataset using wget"
      ]
    },
    {
      "cell_type": "code",
      "metadata": {
        "id": "HLrrIgzDtsth",
        "colab_type": "code",
        "outputId": "3b6930cf-8e22-462d-ccd2-7c77df2dbef8",
        "colab": {
          "base_uri": "https://localhost:8080/",
          "height": 208
        }
      },
      "source": [
        "!wget http://iali.in/datasets/Social_Network_Ads.csv"
      ],
      "execution_count": 0,
      "outputs": [
        {
          "output_type": "stream",
          "text": [
            "--2020-06-02 15:47:07--  http://iali.in/datasets/Social_Network_Ads.csv\n",
            "Resolving iali.in (iali.in)... 156.67.222.125\n",
            "Connecting to iali.in (iali.in)|156.67.222.125|:80... connected.\n",
            "HTTP request sent, awaiting response... 200 OK\n",
            "Length: 10926 (11K) [text/plain]\n",
            "Saving to: ‘Social_Network_Ads.csv’\n",
            "\n",
            "\rSocial_Network_Ads.   0%[                    ]       0  --.-KB/s               \rSocial_Network_Ads. 100%[===================>]  10.67K  --.-KB/s    in 0s      \n",
            "\n",
            "2020-06-02 15:47:07 (111 MB/s) - ‘Social_Network_Ads.csv’ saved [10926/10926]\n",
            "\n"
          ],
          "name": "stdout"
        }
      ]
    },
    {
      "cell_type": "markdown",
      "metadata": {
        "id": "Oc1I51prt1cv",
        "colab_type": "text"
      },
      "source": [
        "Or import value to dataset using panda variable"
      ]
    },
    {
      "cell_type": "code",
      "metadata": {
        "id": "VG5RmxKLuAFm",
        "colab_type": "code",
        "colab": {}
      },
      "source": [
        "dataset = pd.read_csv(\"http://iali.in/datasets/Social_Network_Ads.csv\")"
      ],
      "execution_count": 0,
      "outputs": []
    },
    {
      "cell_type": "markdown",
      "metadata": {
        "id": "6WHtru3_uW9E",
        "colab_type": "text"
      },
      "source": [
        "To check if dataset has been imported, use describe() or sample()"
      ]
    },
    {
      "cell_type": "code",
      "metadata": {
        "id": "vYEVZdzmuYNM",
        "colab_type": "code",
        "outputId": "c91fa1ce-6998-484f-b6a0-0438f8271a68",
        "colab": {
          "base_uri": "https://localhost:8080/",
          "height": 300
        }
      },
      "source": [
        "dataset.describe()"
      ],
      "execution_count": 0,
      "outputs": [
        {
          "output_type": "execute_result",
          "data": {
            "text/html": [
              "<div>\n",
              "<style scoped>\n",
              "    .dataframe tbody tr th:only-of-type {\n",
              "        vertical-align: middle;\n",
              "    }\n",
              "\n",
              "    .dataframe tbody tr th {\n",
              "        vertical-align: top;\n",
              "    }\n",
              "\n",
              "    .dataframe thead th {\n",
              "        text-align: right;\n",
              "    }\n",
              "</style>\n",
              "<table border=\"1\" class=\"dataframe\">\n",
              "  <thead>\n",
              "    <tr style=\"text-align: right;\">\n",
              "      <th></th>\n",
              "      <th>User ID</th>\n",
              "      <th>Age</th>\n",
              "      <th>EstimatedSalary</th>\n",
              "      <th>Purchased</th>\n",
              "    </tr>\n",
              "  </thead>\n",
              "  <tbody>\n",
              "    <tr>\n",
              "      <th>count</th>\n",
              "      <td>4.000000e+02</td>\n",
              "      <td>400.000000</td>\n",
              "      <td>400.000000</td>\n",
              "      <td>400.000000</td>\n",
              "    </tr>\n",
              "    <tr>\n",
              "      <th>mean</th>\n",
              "      <td>1.569154e+07</td>\n",
              "      <td>37.655000</td>\n",
              "      <td>69742.500000</td>\n",
              "      <td>0.357500</td>\n",
              "    </tr>\n",
              "    <tr>\n",
              "      <th>std</th>\n",
              "      <td>7.165832e+04</td>\n",
              "      <td>10.482877</td>\n",
              "      <td>34096.960282</td>\n",
              "      <td>0.479864</td>\n",
              "    </tr>\n",
              "    <tr>\n",
              "      <th>min</th>\n",
              "      <td>1.556669e+07</td>\n",
              "      <td>18.000000</td>\n",
              "      <td>15000.000000</td>\n",
              "      <td>0.000000</td>\n",
              "    </tr>\n",
              "    <tr>\n",
              "      <th>25%</th>\n",
              "      <td>1.562676e+07</td>\n",
              "      <td>29.750000</td>\n",
              "      <td>43000.000000</td>\n",
              "      <td>0.000000</td>\n",
              "    </tr>\n",
              "    <tr>\n",
              "      <th>50%</th>\n",
              "      <td>1.569434e+07</td>\n",
              "      <td>37.000000</td>\n",
              "      <td>70000.000000</td>\n",
              "      <td>0.000000</td>\n",
              "    </tr>\n",
              "    <tr>\n",
              "      <th>75%</th>\n",
              "      <td>1.575036e+07</td>\n",
              "      <td>46.000000</td>\n",
              "      <td>88000.000000</td>\n",
              "      <td>1.000000</td>\n",
              "    </tr>\n",
              "    <tr>\n",
              "      <th>max</th>\n",
              "      <td>1.581524e+07</td>\n",
              "      <td>60.000000</td>\n",
              "      <td>150000.000000</td>\n",
              "      <td>1.000000</td>\n",
              "    </tr>\n",
              "  </tbody>\n",
              "</table>\n",
              "</div>"
            ],
            "text/plain": [
              "            User ID         Age  EstimatedSalary   Purchased\n",
              "count  4.000000e+02  400.000000       400.000000  400.000000\n",
              "mean   1.569154e+07   37.655000     69742.500000    0.357500\n",
              "std    7.165832e+04   10.482877     34096.960282    0.479864\n",
              "min    1.556669e+07   18.000000     15000.000000    0.000000\n",
              "25%    1.562676e+07   29.750000     43000.000000    0.000000\n",
              "50%    1.569434e+07   37.000000     70000.000000    0.000000\n",
              "75%    1.575036e+07   46.000000     88000.000000    1.000000\n",
              "max    1.581524e+07   60.000000    150000.000000    1.000000"
            ]
          },
          "metadata": {
            "tags": []
          },
          "execution_count": 6
        }
      ]
    },
    {
      "cell_type": "code",
      "metadata": {
        "id": "HsiEnfg5umOB",
        "colab_type": "code",
        "outputId": "7166610c-f119-48aa-d27b-6de531e23c59",
        "colab": {
          "base_uri": "https://localhost:8080/",
          "height": 81
        }
      },
      "source": [
        "dataset.sample()"
      ],
      "execution_count": 0,
      "outputs": [
        {
          "output_type": "execute_result",
          "data": {
            "text/html": [
              "<div>\n",
              "<style scoped>\n",
              "    .dataframe tbody tr th:only-of-type {\n",
              "        vertical-align: middle;\n",
              "    }\n",
              "\n",
              "    .dataframe tbody tr th {\n",
              "        vertical-align: top;\n",
              "    }\n",
              "\n",
              "    .dataframe thead th {\n",
              "        text-align: right;\n",
              "    }\n",
              "</style>\n",
              "<table border=\"1\" class=\"dataframe\">\n",
              "  <thead>\n",
              "    <tr style=\"text-align: right;\">\n",
              "      <th></th>\n",
              "      <th>User ID</th>\n",
              "      <th>Gender</th>\n",
              "      <th>Age</th>\n",
              "      <th>EstimatedSalary</th>\n",
              "      <th>Purchased</th>\n",
              "    </tr>\n",
              "  </thead>\n",
              "  <tbody>\n",
              "    <tr>\n",
              "      <th>173</th>\n",
              "      <td>15581654</td>\n",
              "      <td>Female</td>\n",
              "      <td>34</td>\n",
              "      <td>43000</td>\n",
              "      <td>0</td>\n",
              "    </tr>\n",
              "  </tbody>\n",
              "</table>\n",
              "</div>"
            ],
            "text/plain": [
              "      User ID  Gender  Age  EstimatedSalary  Purchased\n",
              "173  15581654  Female   34            43000          0"
            ]
          },
          "metadata": {
            "tags": []
          },
          "execution_count": 7
        }
      ]
    },
    {
      "cell_type": "code",
      "metadata": {
        "id": "yeNMmEMGupKs",
        "colab_type": "code",
        "outputId": "a959a78c-b37d-4076-8980-8a70ea89c5c5",
        "colab": {
          "base_uri": "https://localhost:8080/",
          "height": 363
        }
      },
      "source": [
        "dataset.sample(10)"
      ],
      "execution_count": 0,
      "outputs": [
        {
          "output_type": "execute_result",
          "data": {
            "text/html": [
              "<div>\n",
              "<style scoped>\n",
              "    .dataframe tbody tr th:only-of-type {\n",
              "        vertical-align: middle;\n",
              "    }\n",
              "\n",
              "    .dataframe tbody tr th {\n",
              "        vertical-align: top;\n",
              "    }\n",
              "\n",
              "    .dataframe thead th {\n",
              "        text-align: right;\n",
              "    }\n",
              "</style>\n",
              "<table border=\"1\" class=\"dataframe\">\n",
              "  <thead>\n",
              "    <tr style=\"text-align: right;\">\n",
              "      <th></th>\n",
              "      <th>User ID</th>\n",
              "      <th>Gender</th>\n",
              "      <th>Age</th>\n",
              "      <th>EstimatedSalary</th>\n",
              "      <th>Purchased</th>\n",
              "    </tr>\n",
              "  </thead>\n",
              "  <tbody>\n",
              "    <tr>\n",
              "      <th>390</th>\n",
              "      <td>15807837</td>\n",
              "      <td>Male</td>\n",
              "      <td>48</td>\n",
              "      <td>33000</td>\n",
              "      <td>1</td>\n",
              "    </tr>\n",
              "    <tr>\n",
              "      <th>183</th>\n",
              "      <td>15603319</td>\n",
              "      <td>Male</td>\n",
              "      <td>33</td>\n",
              "      <td>43000</td>\n",
              "      <td>0</td>\n",
              "    </tr>\n",
              "    <tr>\n",
              "      <th>47</th>\n",
              "      <td>15776348</td>\n",
              "      <td>Female</td>\n",
              "      <td>27</td>\n",
              "      <td>54000</td>\n",
              "      <td>0</td>\n",
              "    </tr>\n",
              "    <tr>\n",
              "      <th>29</th>\n",
              "      <td>15669656</td>\n",
              "      <td>Male</td>\n",
              "      <td>31</td>\n",
              "      <td>18000</td>\n",
              "      <td>0</td>\n",
              "    </tr>\n",
              "    <tr>\n",
              "      <th>307</th>\n",
              "      <td>15733973</td>\n",
              "      <td>Female</td>\n",
              "      <td>47</td>\n",
              "      <td>113000</td>\n",
              "      <td>1</td>\n",
              "    </tr>\n",
              "    <tr>\n",
              "      <th>381</th>\n",
              "      <td>15670615</td>\n",
              "      <td>Male</td>\n",
              "      <td>48</td>\n",
              "      <td>33000</td>\n",
              "      <td>1</td>\n",
              "    </tr>\n",
              "    <tr>\n",
              "      <th>312</th>\n",
              "      <td>15733964</td>\n",
              "      <td>Female</td>\n",
              "      <td>38</td>\n",
              "      <td>50000</td>\n",
              "      <td>0</td>\n",
              "    </tr>\n",
              "    <tr>\n",
              "      <th>2</th>\n",
              "      <td>15668575</td>\n",
              "      <td>Female</td>\n",
              "      <td>26</td>\n",
              "      <td>43000</td>\n",
              "      <td>0</td>\n",
              "    </tr>\n",
              "    <tr>\n",
              "      <th>118</th>\n",
              "      <td>15642725</td>\n",
              "      <td>Male</td>\n",
              "      <td>40</td>\n",
              "      <td>59000</td>\n",
              "      <td>0</td>\n",
              "    </tr>\n",
              "    <tr>\n",
              "      <th>271</th>\n",
              "      <td>15688172</td>\n",
              "      <td>Female</td>\n",
              "      <td>59</td>\n",
              "      <td>76000</td>\n",
              "      <td>1</td>\n",
              "    </tr>\n",
              "  </tbody>\n",
              "</table>\n",
              "</div>"
            ],
            "text/plain": [
              "      User ID  Gender  Age  EstimatedSalary  Purchased\n",
              "390  15807837    Male   48            33000          1\n",
              "183  15603319    Male   33            43000          0\n",
              "47   15776348  Female   27            54000          0\n",
              "29   15669656    Male   31            18000          0\n",
              "307  15733973  Female   47           113000          1\n",
              "381  15670615    Male   48            33000          1\n",
              "312  15733964  Female   38            50000          0\n",
              "2    15668575  Female   26            43000          0\n",
              "118  15642725    Male   40            59000          0\n",
              "271  15688172  Female   59            76000          1"
            ]
          },
          "metadata": {
            "tags": []
          },
          "execution_count": 8
        }
      ]
    },
    {
      "cell_type": "markdown",
      "metadata": {
        "id": "5Rtsx6Mxx98z",
        "colab_type": "text"
      },
      "source": [
        "Add values to x and y. Either use dataset or iloc.\n",
        "\n",
        "Syntax of iloc\n",
        "\n",
        "iloc [ Row_start: Row_end , Col_Start: Col_end]"
      ]
    },
    {
      "cell_type": "code",
      "metadata": {
        "id": "I3dvyCVdx_h4",
        "colab_type": "code",
        "colab": {}
      },
      "source": [
        "x=dataset.iloc[:,[2,3]].values\n",
        "y=dataset.iloc[:,4].values"
      ],
      "execution_count": 0,
      "outputs": []
    },
    {
      "cell_type": "markdown",
      "metadata": {
        "id": "Liglegfy8Vge",
        "colab_type": "text"
      },
      "source": [
        "Split data into training and testing. Use sklearn library.\n",
        "\n",
        "Syntax: train_test_split(x,y,split-size)\n",
        "\n",
        "0.2 = 80-20"
      ]
    },
    {
      "cell_type": "code",
      "metadata": {
        "id": "brbN8Beayp_5",
        "colab_type": "code",
        "colab": {}
      },
      "source": [
        "from sklearn.model_selection import train_test_split\n",
        "\n",
        "x_train, x_test, y_train, y_test = train_test_split(x, y, test_size=0.2)"
      ],
      "execution_count": 0,
      "outputs": []
    },
    {
      "cell_type": "markdown",
      "metadata": {
        "id": "FdduvtLL9J57",
        "colab_type": "text"
      },
      "source": [
        "Building the model and visualizing the tree.\n",
        "\n",
        "Use this for reference:https://scikit-learn.org/stable/modules/tree.html#classification\n"
      ]
    },
    {
      "cell_type": "code",
      "metadata": {
        "id": "gbGNXq0I9LYF",
        "colab_type": "code",
        "colab": {}
      },
      "source": [
        "from sklearn import tree\n",
        "\n",
        "clf = tree.DecisionTreeClassifier()\n",
        "\n",
        "clf = clf.fit(x_train, y_train)"
      ],
      "execution_count": 0,
      "outputs": []
    },
    {
      "cell_type": "code",
      "metadata": {
        "id": "oOOMoWrr9ToV",
        "colab_type": "code",
        "outputId": "4ea26a7f-5d84-4aa7-e0e0-44806ec3a2a0",
        "colab": {
          "base_uri": "https://localhost:8080/",
          "height": 1000
        }
      },
      "source": [
        "tree.plot_tree(clf)"
      ],
      "execution_count": 0,
      "outputs": [
        {
          "output_type": "execute_result",
          "data": {
            "text/plain": [
              "[Text(186.23250000000002, 210.645, 'X[0] <= 43.5\\ngini = 0.455\\nsamples = 320\\nvalue = [208, 112]'),\n",
              " Text(117.18, 197.055, 'X[1] <= 91500.0\\ngini = 0.278\\nsamples = 234\\nvalue = [195, 39]'),\n",
              " Text(66.96000000000001, 183.465, 'X[0] <= 41.5\\ngini = 0.078\\nsamples = 196\\nvalue = [188, 8]'),\n",
              " Text(50.220000000000006, 169.875, 'X[0] <= 36.5\\ngini = 0.053\\nsamples = 185\\nvalue = [180, 5]'),\n",
              " Text(41.85000000000001, 156.285, 'gini = 0.0\\nsamples = 127\\nvalue = [127, 0]'),\n",
              " Text(58.59, 156.285, 'X[1] <= 83500.0\\ngini = 0.158\\nsamples = 58\\nvalue = [53, 5]'),\n",
              " Text(50.220000000000006, 142.695, 'X[1] <= 67500.0\\ngini = 0.131\\nsamples = 57\\nvalue = [53, 4]'),\n",
              " Text(41.85000000000001, 129.10500000000002, 'gini = 0.0\\nsamples = 28\\nvalue = [28, 0]'),\n",
              " Text(58.59, 129.10500000000002, 'X[1] <= 70500.0\\ngini = 0.238\\nsamples = 29\\nvalue = [25, 4]'),\n",
              " Text(50.220000000000006, 115.515, 'gini = 0.0\\nsamples = 1\\nvalue = [0, 1]'),\n",
              " Text(66.96000000000001, 115.515, 'X[0] <= 40.5\\ngini = 0.191\\nsamples = 28\\nvalue = [25, 3]'),\n",
              " Text(58.59, 101.925, 'X[1] <= 79500.0\\ngini = 0.236\\nsamples = 22\\nvalue = [19, 3]'),\n",
              " Text(50.220000000000006, 88.33500000000001, 'X[1] <= 78500.0\\ngini = 0.266\\nsamples = 19\\nvalue = [16, 3]'),\n",
              " Text(33.480000000000004, 74.745, 'X[0] <= 38.5\\ngini = 0.208\\nsamples = 17\\nvalue = [15, 2]'),\n",
              " Text(25.110000000000003, 61.155, 'gini = 0.0\\nsamples = 7\\nvalue = [7, 0]'),\n",
              " Text(41.85000000000001, 61.155, 'X[1] <= 76000.0\\ngini = 0.32\\nsamples = 10\\nvalue = [8, 2]'),\n",
              " Text(33.480000000000004, 47.565, 'X[1] <= 71500.0\\ngini = 0.375\\nsamples = 8\\nvalue = [6, 2]'),\n",
              " Text(16.740000000000002, 33.974999999999994, 'X[0] <= 39.5\\ngini = 0.444\\nsamples = 3\\nvalue = [2, 1]'),\n",
              " Text(8.370000000000001, 20.38499999999999, 'gini = 0.0\\nsamples = 2\\nvalue = [2, 0]'),\n",
              " Text(25.110000000000003, 20.38499999999999, 'gini = 0.0\\nsamples = 1\\nvalue = [0, 1]'),\n",
              " Text(50.220000000000006, 33.974999999999994, 'X[0] <= 39.5\\ngini = 0.32\\nsamples = 5\\nvalue = [4, 1]'),\n",
              " Text(41.85000000000001, 20.38499999999999, 'X[1] <= 74000.0\\ngini = 0.5\\nsamples = 2\\nvalue = [1, 1]'),\n",
              " Text(33.480000000000004, 6.7949999999999875, 'gini = 0.0\\nsamples = 1\\nvalue = [1, 0]'),\n",
              " Text(50.220000000000006, 6.7949999999999875, 'gini = 0.0\\nsamples = 1\\nvalue = [0, 1]'),\n",
              " Text(58.59, 20.38499999999999, 'gini = 0.0\\nsamples = 3\\nvalue = [3, 0]'),\n",
              " Text(50.220000000000006, 47.565, 'gini = 0.0\\nsamples = 2\\nvalue = [2, 0]'),\n",
              " Text(66.96000000000001, 74.745, 'X[0] <= 38.0\\ngini = 0.5\\nsamples = 2\\nvalue = [1, 1]'),\n",
              " Text(58.59, 61.155, 'gini = 0.0\\nsamples = 1\\nvalue = [0, 1]'),\n",
              " Text(75.33000000000001, 61.155, 'gini = 0.0\\nsamples = 1\\nvalue = [1, 0]'),\n",
              " Text(66.96000000000001, 88.33500000000001, 'gini = 0.0\\nsamples = 3\\nvalue = [3, 0]'),\n",
              " Text(75.33000000000001, 101.925, 'gini = 0.0\\nsamples = 6\\nvalue = [6, 0]'),\n",
              " Text(66.96000000000001, 142.695, 'gini = 0.0\\nsamples = 1\\nvalue = [0, 1]'),\n",
              " Text(83.70000000000002, 169.875, 'X[1] <= 71500.0\\ngini = 0.397\\nsamples = 11\\nvalue = [8, 3]'),\n",
              " Text(75.33000000000001, 156.285, 'gini = 0.0\\nsamples = 5\\nvalue = [5, 0]'),\n",
              " Text(92.07000000000001, 156.285, 'X[1] <= 74000.0\\ngini = 0.5\\nsamples = 6\\nvalue = [3, 3]'),\n",
              " Text(83.70000000000002, 142.695, 'gini = 0.0\\nsamples = 1\\nvalue = [0, 1]'),\n",
              " Text(100.44000000000001, 142.695, 'X[1] <= 79500.0\\ngini = 0.48\\nsamples = 5\\nvalue = [3, 2]'),\n",
              " Text(92.07000000000001, 129.10500000000002, 'gini = 0.0\\nsamples = 2\\nvalue = [2, 0]'),\n",
              " Text(108.81000000000002, 129.10500000000002, 'X[1] <= 85000.0\\ngini = 0.444\\nsamples = 3\\nvalue = [1, 2]'),\n",
              " Text(100.44000000000001, 115.515, 'gini = 0.5\\nsamples = 2\\nvalue = [1, 1]'),\n",
              " Text(117.18, 115.515, 'gini = 0.0\\nsamples = 1\\nvalue = [0, 1]'),\n",
              " Text(167.40000000000003, 183.465, 'X[1] <= 133500.0\\ngini = 0.301\\nsamples = 38\\nvalue = [7, 31]'),\n",
              " Text(159.03000000000003, 169.875, 'X[1] <= 107500.0\\ngini = 0.413\\nsamples = 24\\nvalue = [7, 17]'),\n",
              " Text(150.66000000000003, 156.285, 'gini = 0.0\\nsamples = 10\\nvalue = [0, 10]'),\n",
              " Text(167.40000000000003, 156.285, 'X[1] <= 117500.0\\ngini = 0.5\\nsamples = 14\\nvalue = [7, 7]'),\n",
              " Text(150.66000000000003, 142.695, 'X[0] <= 40.0\\ngini = 0.48\\nsamples = 10\\nvalue = [6, 4]'),\n",
              " Text(142.29000000000002, 129.10500000000002, 'X[1] <= 114000.0\\ngini = 0.375\\nsamples = 8\\nvalue = [6, 2]'),\n",
              " Text(133.92000000000002, 115.515, 'X[0] <= 33.5\\ngini = 0.48\\nsamples = 5\\nvalue = [3, 2]'),\n",
              " Text(125.55000000000001, 101.925, 'gini = 0.0\\nsamples = 1\\nvalue = [1, 0]'),\n",
              " Text(142.29000000000002, 101.925, 'X[1] <= 110000.0\\ngini = 0.5\\nsamples = 4\\nvalue = [2, 2]'),\n",
              " Text(133.92000000000002, 88.33500000000001, 'gini = 0.0\\nsamples = 1\\nvalue = [1, 0]'),\n",
              " Text(150.66000000000003, 88.33500000000001, 'X[1] <= 112500.0\\ngini = 0.444\\nsamples = 3\\nvalue = [1, 2]'),\n",
              " Text(142.29000000000002, 74.745, 'X[0] <= 36.0\\ngini = 0.5\\nsamples = 2\\nvalue = [1, 1]'),\n",
              " Text(133.92000000000002, 61.155, 'gini = 0.0\\nsamples = 1\\nvalue = [0, 1]'),\n",
              " Text(150.66000000000003, 61.155, 'gini = 0.0\\nsamples = 1\\nvalue = [1, 0]'),\n",
              " Text(159.03000000000003, 74.745, 'gini = 0.0\\nsamples = 1\\nvalue = [0, 1]'),\n",
              " Text(150.66000000000003, 115.515, 'gini = 0.0\\nsamples = 3\\nvalue = [3, 0]'),\n",
              " Text(159.03000000000003, 129.10500000000002, 'gini = 0.0\\nsamples = 2\\nvalue = [0, 2]'),\n",
              " Text(184.14000000000001, 142.695, 'X[1] <= 129000.0\\ngini = 0.375\\nsamples = 4\\nvalue = [1, 3]'),\n",
              " Text(175.77, 129.10500000000002, 'gini = 0.0\\nsamples = 3\\nvalue = [0, 3]'),\n",
              " Text(192.51000000000002, 129.10500000000002, 'gini = 0.0\\nsamples = 1\\nvalue = [1, 0]'),\n",
              " Text(175.77, 169.875, 'gini = 0.0\\nsamples = 14\\nvalue = [0, 14]'),\n",
              " Text(255.28500000000003, 197.055, 'X[1] <= 41500.0\\ngini = 0.257\\nsamples = 86\\nvalue = [13, 73]'),\n",
              " Text(246.91500000000002, 183.465, 'gini = 0.0\\nsamples = 29\\nvalue = [0, 29]'),\n",
              " Text(263.65500000000003, 183.465, 'X[1] <= 84500.0\\ngini = 0.352\\nsamples = 57\\nvalue = [13, 44]'),\n",
              " Text(242.73000000000002, 169.875, 'X[0] <= 51.0\\ngini = 0.499\\nsamples = 21\\nvalue = [10, 11]'),\n",
              " Text(225.99000000000004, 156.285, 'X[0] <= 48.5\\ngini = 0.397\\nsamples = 11\\nvalue = [8, 3]'),\n",
              " Text(217.62000000000003, 142.695, 'X[0] <= 47.5\\ngini = 0.444\\nsamples = 9\\nvalue = [6, 3]'),\n",
              " Text(209.25000000000003, 129.10500000000002, 'X[0] <= 46.5\\ngini = 0.375\\nsamples = 8\\nvalue = [6, 2]'),\n",
              " Text(200.88000000000002, 115.515, 'X[1] <= 52000.0\\ngini = 0.444\\nsamples = 6\\nvalue = [4, 2]'),\n",
              " Text(192.51000000000002, 101.925, 'gini = 0.0\\nsamples = 1\\nvalue = [0, 1]'),\n",
              " Text(209.25000000000003, 101.925, 'X[1] <= 76500.0\\ngini = 0.32\\nsamples = 5\\nvalue = [4, 1]'),\n",
              " Text(200.88000000000002, 88.33500000000001, 'gini = 0.0\\nsamples = 2\\nvalue = [2, 0]'),\n",
              " Text(217.62000000000003, 88.33500000000001, 'X[1] <= 80500.0\\ngini = 0.444\\nsamples = 3\\nvalue = [2, 1]'),\n",
              " Text(209.25000000000003, 74.745, 'X[0] <= 45.5\\ngini = 0.5\\nsamples = 2\\nvalue = [1, 1]'),\n",
              " Text(200.88000000000002, 61.155, 'gini = 0.0\\nsamples = 1\\nvalue = [1, 0]'),\n",
              " Text(217.62000000000003, 61.155, 'gini = 0.0\\nsamples = 1\\nvalue = [0, 1]'),\n",
              " Text(225.99000000000004, 74.745, 'gini = 0.0\\nsamples = 1\\nvalue = [1, 0]'),\n",
              " Text(217.62000000000003, 115.515, 'gini = 0.0\\nsamples = 2\\nvalue = [2, 0]'),\n",
              " Text(225.99000000000004, 129.10500000000002, 'gini = 0.0\\nsamples = 1\\nvalue = [0, 1]'),\n",
              " Text(234.36, 142.695, 'gini = 0.0\\nsamples = 2\\nvalue = [2, 0]'),\n",
              " Text(259.47, 156.285, 'X[1] <= 82500.0\\ngini = 0.32\\nsamples = 10\\nvalue = [2, 8]'),\n",
              " Text(251.10000000000002, 142.695, 'X[1] <= 44500.0\\ngini = 0.198\\nsamples = 9\\nvalue = [1, 8]'),\n",
              " Text(242.73000000000002, 129.10500000000002, 'X[0] <= 59.5\\ngini = 0.444\\nsamples = 3\\nvalue = [1, 2]'),\n",
              " Text(234.36, 115.515, 'gini = 0.0\\nsamples = 1\\nvalue = [1, 0]'),\n",
              " Text(251.10000000000002, 115.515, 'gini = 0.0\\nsamples = 2\\nvalue = [0, 2]'),\n",
              " Text(259.47, 129.10500000000002, 'gini = 0.0\\nsamples = 6\\nvalue = [0, 6]'),\n",
              " Text(267.84000000000003, 142.695, 'gini = 0.0\\nsamples = 1\\nvalue = [1, 0]'),\n",
              " Text(284.58000000000004, 169.875, 'X[1] <= 111000.0\\ngini = 0.153\\nsamples = 36\\nvalue = [3, 33]'),\n",
              " Text(276.21000000000004, 156.285, 'gini = 0.0\\nsamples = 19\\nvalue = [0, 19]'),\n",
              " Text(292.95000000000005, 156.285, 'X[1] <= 115500.0\\ngini = 0.291\\nsamples = 17\\nvalue = [3, 14]'),\n",
              " Text(284.58000000000004, 142.695, 'gini = 0.0\\nsamples = 1\\nvalue = [1, 0]'),\n",
              " Text(301.32000000000005, 142.695, 'X[0] <= 51.5\\ngini = 0.219\\nsamples = 16\\nvalue = [2, 14]'),\n",
              " Text(292.95000000000005, 129.10500000000002, 'X[1] <= 126500.0\\ngini = 0.375\\nsamples = 8\\nvalue = [2, 6]'),\n",
              " Text(284.58000000000004, 115.515, 'gini = 0.0\\nsamples = 2\\nvalue = [0, 2]'),\n",
              " Text(301.32000000000005, 115.515, 'X[1] <= 136000.0\\ngini = 0.444\\nsamples = 6\\nvalue = [2, 4]'),\n",
              " Text(292.95000000000005, 101.925, 'gini = 0.0\\nsamples = 1\\nvalue = [1, 0]'),\n",
              " Text(309.69000000000005, 101.925, 'X[1] <= 140000.0\\ngini = 0.32\\nsamples = 5\\nvalue = [1, 4]'),\n",
              " Text(301.32000000000005, 88.33500000000001, 'gini = 0.0\\nsamples = 2\\nvalue = [0, 2]'),\n",
              " Text(318.06000000000006, 88.33500000000001, 'X[0] <= 48.5\\ngini = 0.444\\nsamples = 3\\nvalue = [1, 2]'),\n",
              " Text(309.69000000000005, 74.745, 'gini = 0.0\\nsamples = 1\\nvalue = [1, 0]'),\n",
              " Text(326.43000000000006, 74.745, 'gini = 0.0\\nsamples = 2\\nvalue = [0, 2]'),\n",
              " Text(309.69000000000005, 129.10500000000002, 'gini = 0.0\\nsamples = 8\\nvalue = [0, 8]')]"
            ]
          },
          "metadata": {
            "tags": []
          },
          "execution_count": 21
        },
        {
          "output_type": "display_data",
          "data": {
            "image/png": "[encoded data removed]",
            "text/plain": [
              "<Figure size 432x288 with 1 Axes>"
            ]
          },
          "metadata": {
            "tags": [],
            "needs_background": "light"
          }
        }
      ]
    },
    {
      "cell_type": "code",
      "metadata": {
        "id": "_9q-dZJ39hRn",
        "colab_type": "code",
        "colab": {}
      },
      "source": [
        "y_pred = clf.predict(x_test)"
      ],
      "execution_count": 0,
      "outputs": []
    },
    {
      "cell_type": "code",
      "metadata": {
        "id": "92GLJ8lA9rW6",
        "colab_type": "code",
        "outputId": "5a0c08c0-c24f-472e-9cbe-ff4c959d2387",
        "colab": {
          "base_uri": "https://localhost:8080/",
          "height": 86
        }
      },
      "source": [
        "y_pred"
      ],
      "execution_count": 0,
      "outputs": [
        {
          "output_type": "execute_result",
          "data": {
            "text/plain": [
              "array([0, 0, 1, 0, 1, 0, 0, 0, 1, 0, 0, 0, 1, 0, 0, 0, 0, 0, 0, 0, 1, 1,\n",
              "       0, 0, 0, 0, 0, 0, 0, 1, 0, 0, 0, 0, 1, 0, 0, 0, 1, 0, 1, 1, 1, 1,\n",
              "       0, 0, 1, 0, 0, 0, 1, 0, 0, 0, 0, 0, 1, 1, 0, 1, 0, 0, 0, 0, 1, 0,\n",
              "       0, 0, 0, 0, 1, 0, 0, 1, 0, 0, 0, 1, 0, 1])"
            ]
          },
          "metadata": {
            "tags": []
          },
          "execution_count": 23
        }
      ]
    },
    {
      "cell_type": "code",
      "metadata": {
        "id": "40pawDcl9tjA",
        "colab_type": "code",
        "outputId": "776aded5-9643-4ba8-eb65-bb97776e7a37",
        "colab": {
          "base_uri": "https://localhost:8080/",
          "height": 34
        }
      },
      "source": [
        "from sklearn.metrics import accuracy_score\n",
        "\n",
        "accuracy_score(y_pred, y_test)"
      ],
      "execution_count": 0,
      "outputs": [
        {
          "output_type": "execute_result",
          "data": {
            "text/plain": [
              "0.8"
            ]
          },
          "metadata": {
            "tags": []
          },
          "execution_count": 24
        }
      ]
    },
    {
      "cell_type": "markdown",
      "metadata": {
        "id": "gfLqPEG6-EJ3",
        "colab_type": "text"
      },
      "source": [
        "Classification report - to test how good the model is"
      ]
    },
    {
      "cell_type": "code",
      "metadata": {
        "id": "Lxo5-mDQ-AX_",
        "colab_type": "code",
        "outputId": "c8a097db-d699-410e-8922-7a0ac8450ef9",
        "colab": {
          "base_uri": "https://localhost:8080/",
          "height": 54
        }
      },
      "source": [
        "from sklearn.metrics import classification_report\n",
        "\n",
        "classes = ['0','1']\n",
        "\n",
        "classification_report(y_test, y_pred, target_names=classes)"
      ],
      "execution_count": 0,
      "outputs": [
        {
          "output_type": "execute_result",
          "data": {
            "text/plain": [
              "'              precision    recall  f1-score   support\\n\\n           0       0.79      0.92      0.85        49\\n           1       0.83      0.61      0.70        31\\n\\n    accuracy                           0.80        80\\n   macro avg       0.81      0.77      0.78        80\\nweighted avg       0.80      0.80      0.79        80\\n'"
            ]
          },
          "metadata": {
            "tags": []
          },
          "execution_count": 25
        }
      ]
    },
    {
      "cell_type": "markdown",
      "metadata": {
        "id": "hSojWVqw-Ph0",
        "colab_type": "text"
      },
      "source": [
        "Visualizing as actual vs predicted"
      ]
    },
    {
      "cell_type": "code",
      "metadata": {
        "id": "tOX_6tHs-QXa",
        "colab_type": "code",
        "outputId": "e50fff78-3390-4a2d-99e5-541a9e9c93cc",
        "colab": {
          "base_uri": "https://localhost:8080/",
          "height": 424
        }
      },
      "source": [
        "df = pd.DataFrame({'Actual':y_test, 'Predicted':y_pred})\n",
        "\n",
        "df"
      ],
      "execution_count": 0,
      "outputs": [
        {
          "output_type": "execute_result",
          "data": {
            "text/html": [
              "<div>\n",
              "<style scoped>\n",
              "    .dataframe tbody tr th:only-of-type {\n",
              "        vertical-align: middle;\n",
              "    }\n",
              "\n",
              "    .dataframe tbody tr th {\n",
              "        vertical-align: top;\n",
              "    }\n",
              "\n",
              "    .dataframe thead th {\n",
              "        text-align: right;\n",
              "    }\n",
              "</style>\n",
              "<table border=\"1\" class=\"dataframe\">\n",
              "  <thead>\n",
              "    <tr style=\"text-align: right;\">\n",
              "      <th></th>\n",
              "      <th>Actual</th>\n",
              "      <th>Predicted</th>\n",
              "    </tr>\n",
              "  </thead>\n",
              "  <tbody>\n",
              "    <tr>\n",
              "      <th>0</th>\n",
              "      <td>0</td>\n",
              "      <td>0</td>\n",
              "    </tr>\n",
              "    <tr>\n",
              "      <th>1</th>\n",
              "      <td>1</td>\n",
              "      <td>0</td>\n",
              "    </tr>\n",
              "    <tr>\n",
              "      <th>2</th>\n",
              "      <td>0</td>\n",
              "      <td>1</td>\n",
              "    </tr>\n",
              "    <tr>\n",
              "      <th>3</th>\n",
              "      <td>0</td>\n",
              "      <td>0</td>\n",
              "    </tr>\n",
              "    <tr>\n",
              "      <th>4</th>\n",
              "      <td>1</td>\n",
              "      <td>1</td>\n",
              "    </tr>\n",
              "    <tr>\n",
              "      <th>...</th>\n",
              "      <td>...</td>\n",
              "      <td>...</td>\n",
              "    </tr>\n",
              "    <tr>\n",
              "      <th>75</th>\n",
              "      <td>0</td>\n",
              "      <td>0</td>\n",
              "    </tr>\n",
              "    <tr>\n",
              "      <th>76</th>\n",
              "      <td>0</td>\n",
              "      <td>0</td>\n",
              "    </tr>\n",
              "    <tr>\n",
              "      <th>77</th>\n",
              "      <td>0</td>\n",
              "      <td>1</td>\n",
              "    </tr>\n",
              "    <tr>\n",
              "      <th>78</th>\n",
              "      <td>1</td>\n",
              "      <td>0</td>\n",
              "    </tr>\n",
              "    <tr>\n",
              "      <th>79</th>\n",
              "      <td>1</td>\n",
              "      <td>1</td>\n",
              "    </tr>\n",
              "  </tbody>\n",
              "</table>\n",
              "<p>80 rows × 2 columns</p>\n",
              "</div>"
            ],
            "text/plain": [
              "    Actual  Predicted\n",
              "0        0          0\n",
              "1        1          0\n",
              "2        0          1\n",
              "3        0          0\n",
              "4        1          1\n",
              "..     ...        ...\n",
              "75       0          0\n",
              "76       0          0\n",
              "77       0          1\n",
              "78       1          0\n",
              "79       1          1\n",
              "\n",
              "[80 rows x 2 columns]"
            ]
          },
          "metadata": {
            "tags": []
          },
          "execution_count": 26
        }
      ]
    },
    {
      "cell_type": "markdown",
      "metadata": {
        "id": "E54D71zk-djc",
        "colab_type": "text"
      },
      "source": [
        "Plotting bar graph to see how it looks"
      ]
    },
    {
      "cell_type": "code",
      "metadata": {
        "id": "sTSTL3cE-ent",
        "colab_type": "code",
        "outputId": "c03da0d5-330b-4d71-86c2-7ec76ddaeeb9",
        "colab": {
          "base_uri": "https://localhost:8080/",
          "height": 322
        }
      },
      "source": [
        "df1 = df.head(25)  # graph with top 25 rows of original data frame\n",
        "df1.plot(kind='bar', figsize=(16,5))   #bargraph any values to make its size.\n",
        "plt.grid(which='major', linestyle='-',linewidth='1', color='green')\n",
        "plt.grid(which='minor', linestyle=':',linewidth='1', color='black')\n",
        "plt.show()"
      ],
      "execution_count": 0,
      "outputs": [
        {
          "output_type": "display_data",
          "data": {
            "image/png": "[encoded data removed]",
            "text/plain": [
              "<Figure size 1152x360 with 1 Axes>"
            ]
          },
          "metadata": {
            "tags": [],
            "needs_background": "light"
          }
        }
      ]
    }
  ]
}