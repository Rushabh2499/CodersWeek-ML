{
  "nbformat": 4,
  "nbformat_minor": 0,
  "metadata": {
    "colab": {
      "name": "ML_Day5.ipynb",
      "provenance": [],
      "collapsed_sections": [],
      "authorship_tag": "ABX9TyPGnl8B4jUzaZVlj/s2FrRA",
      "include_colab_link": true
    },
    "kernelspec": {
      "name": "python3",
      "display_name": "Python 3"
    }
  },
  "cells": [
    {
      "cell_type": "markdown",
      "metadata": {
        "id": "view-in-github",
        "colab_type": "text"
      },
      "source": [
        "<a href=\"https://colab.research.google.com/github/Rushabh2499/CodersWeek-ML/blob/master/ML_Day5.ipynb\" target=\"_parent\"><img src=\"https://colab.research.google.com/assets/colab-badge.svg\" alt=\"Open In Colab\"/></a>"
      ]
    },
    {
      "cell_type": "code",
      "metadata": {
        "id": "IP7tDnuoVaOl",
        "colab_type": "code",
        "colab": {}
      },
      "source": [
        "#Variables containing user credentials to access Twitter API\n",
        "ACCESS_TOKEN = \"\"\n",
        "ACCESS_TOKEN_SECRET = \"\"\n",
        "CONSUMER_KEY = \"\"\n",
        "CONSUMER_SECRET = \"\""
      ],
      "execution_count": 0,
      "outputs": []
    },
    {
      "cell_type": "code",
      "metadata": {
        "id": "yiDm2oauWWDn",
        "colab_type": "code",
        "colab": {
          "base_uri": "https://localhost:8080/",
          "height": 211
        },
        "outputId": "edb023c1-9f80-4e7f-ef70-0adea1e5ca95"
      },
      "source": [
        "pip install tweepy"
      ],
      "execution_count": 2,
      "outputs": [
        {
          "output_type": "stream",
          "text": [
            "Requirement already satisfied: tweepy in /usr/local/lib/python3.6/dist-packages (3.6.0)\n",
            "Requirement already satisfied: PySocks>=1.5.7 in /usr/local/lib/python3.6/dist-packages (from tweepy) (1.7.1)\n",
            "Requirement already satisfied: six>=1.10.0 in /usr/local/lib/python3.6/dist-packages (from tweepy) (1.12.0)\n",
            "Requirement already satisfied: requests>=2.11.1 in /usr/local/lib/python3.6/dist-packages (from tweepy) (2.23.0)\n",
            "Requirement already satisfied: requests-oauthlib>=0.7.0 in /usr/local/lib/python3.6/dist-packages (from tweepy) (1.3.0)\n",
            "Requirement already satisfied: chardet<4,>=3.0.2 in /usr/local/lib/python3.6/dist-packages (from requests>=2.11.1->tweepy) (3.0.4)\n",
            "Requirement already satisfied: urllib3!=1.25.0,!=1.25.1,<1.26,>=1.21.1 in /usr/local/lib/python3.6/dist-packages (from requests>=2.11.1->tweepy) (1.24.3)\n",
            "Requirement already satisfied: certifi>=2017.4.17 in /usr/local/lib/python3.6/dist-packages (from requests>=2.11.1->tweepy) (2020.4.5.1)\n",
            "Requirement already satisfied: idna<3,>=2.5 in /usr/local/lib/python3.6/dist-packages (from requests>=2.11.1->tweepy) (2.9)\n",
            "Requirement already satisfied: oauthlib>=3.0.0 in /usr/local/lib/python3.6/dist-packages (from requests-oauthlib>=0.7.0->tweepy) (3.1.0)\n"
          ],
          "name": "stdout"
        }
      ]
    },
    {
      "cell_type": "code",
      "metadata": {
        "id": "yuyE3wwRWbPa",
        "colab_type": "code",
        "colab": {}
      },
      "source": [
        "from tweepy.streaming import StreamListener\n",
        "from tweepy import OAuthHandler\n",
        "from tweepy import Stream"
      ],
      "execution_count": 0,
      "outputs": []
    },
    {
      "cell_type": "code",
      "metadata": {
        "id": "HZFiEWbDWeZ6",
        "colab_type": "code",
        "colab": {}
      },
      "source": [
        "class TwitterStreamer():\n",
        "  def stream_tweets(self, fetched_tweets_filename, hash_tag_list):\n",
        "    listener = StdOutListener()\n",
        "    auth=OAuthHandler(CONSUMER_KEY, CONSUMER_SECRET)\n",
        "    auth.set_access_token(ACCESS_TOKEN, ACCESS_TOKEN_SECRET)\n",
        "    stream = Stream(auth, listener)\n",
        "    stream.filter(track=hash_tag_list)\n",
        "\n",
        "class StdOutListener(StreamListener):\n",
        "  def on_data(self, data):\n",
        "    try:\n",
        "      print(data)\n",
        "      with open(self.fetched_tweets_filename, 'a') as tf:\n",
        "        tf.write(data)\n",
        "      return True\n",
        "    except BaseException as e:\n",
        "      print(\"Error_on_data %s\" % str(e))\n",
        "    return True\n",
        "  def on_error(self, status):\n",
        "    print(status)\n",
        "\n",
        "if __name__ == \"__main__\":\n",
        "  hash_tag_list=['python', 'py']\n",
        "  fetched_tweets_filename = \"tweets.txt\"\n",
        "  twitter_streamer = TwitterStreamer()\n",
        "  twitter_streamer.stream_tweets(fetched_tweets_filename, hash_tag_list)"
      ],
      "execution_count": 0,
      "outputs": []
    },
    {
      "cell_type": "code",
      "metadata": {
        "id": "HdwYK65sWoOO",
        "colab_type": "code",
        "colab": {}
      },
      "source": [
        "from tweepy import API \n",
        "from tweepy import Cursor"
      ],
      "execution_count": 0,
      "outputs": []
    },
    {
      "cell_type": "code",
      "metadata": {
        "id": "SF6R5aHEWv8f",
        "colab_type": "code",
        "colab": {
          "base_uri": "https://localhost:8080/",
          "height": 55
        },
        "outputId": "914548fc-7be1-4fae-c7ff-11361d96e34f"
      },
      "source": [
        "class TwitterClient():\n",
        "\n",
        "  def __init__(self, twitter_user=None):\n",
        "    self.auth = TwitterAuthenticator().authenticate_twitter_app()\n",
        "    self.twitter_client = API(self.auth)\n",
        "    self.twitter_user = twitter_user\n",
        "\n",
        "  def get_user_timeline_tweets(self, num_tweets):\n",
        "    tweets = []\n",
        "    for tweet in Cursor(self.twitter_client.user_timeline, id=self.twitter_user).items(num_tweets):\n",
        "      tweets.append(tweet)\n",
        "    return tweets\n",
        "  \n",
        "  def get_friend_list(self, num_friends):\n",
        "    friend_list = []\n",
        "    for friend in Cursor(self.twitter_client.friends, id=self.twitter_user).items(num_friends):\n",
        "      friend_list.append(friend)\n",
        "    return friend_list\n",
        "  \n",
        "  def get_home_timeline_tweets(self, num_tweets):\n",
        "    home_timeline_tweets = []\n",
        "    for tweet in Cursor(self.twitter_client.home_timeline, id=self.twitter_user).items(num_tweets):\n",
        "      home_timeline_tweets.append(tweet)\n",
        "    return home_timeline_tweets\n",
        "\n",
        "class TwitterAuthenticator():\n",
        "  def authenticate_twitter_app(self):\n",
        "    auth = OAuthHandler(CONSUMER_KEY, CONSUMER_SECRET)\n",
        "    auth.set_access_token(ACCESS_TOKEN, ACCESS_TOKEN_SECRET)\n",
        "    return auth\n",
        "\n",
        "class TwitterStreamer():\n",
        "  def __init__(self):\n",
        "    self.twitter_autenticator = TwitterAuthenticator()  \n",
        "\n",
        "  def stream_tweets(self, fetched_tweets_filename, hash_tag_list):\n",
        "    listener = TwitterListener(fetched_tweets_filename)\n",
        "    auth = self.twitter_autenticator.authenticate_twitter_app() \n",
        "    stream = Stream(auth, listener)\n",
        "    stream.filter(track=hash_tag_list)\n",
        "\n",
        "class TwitterListener(StreamListener):\n",
        "  def __init__(self, fetched_tweets_filename):\n",
        "    self.fetched_tweets_filename = fetched_tweets_filename\n",
        "\n",
        "  def on_data(self, data):\n",
        "    try:\n",
        "      print(data)\n",
        "      with open(self.fetched_tweets_filename, 'a') as tf:\n",
        "        tf.write(data)\n",
        "      return True\n",
        "    except BaseException as e:\n",
        "      print(\"Error on_data %s\" % str(e))\n",
        "    return True\n",
        "  \n",
        "  def on_error(self, status):\n",
        "    if status == 420:\n",
        "      return False\n",
        "    print(status)\n",
        "    \n",
        "if __name__ == '__main__':\n",
        "  hash_tag_list = ['python', 'py']\n",
        "  fetched_tweets_filename = \"tweets.txt\"\n",
        "  twitter_client = TwitterClient('PythonHub')\n",
        "  print(twitter_client.get_user_timeline_tweets(1))"
      ],
      "execution_count": 10,
      "outputs": [
        {
          "output_type": "stream",
          "text": [
            "[Status(_api=<tweepy.api.API object at 0x7fdfb5741b70>, _json={'created_at': 'Sun Jun 07 04:15:10 +0000 2020', 'id': 1269483013240487938, 'id_str': '1269483013240487938', 'text': '5 Advanced Operations Using Dictionaries in\\xa0Python\\n\\nLevel up your skills when using dictionaries in…… https://t.co/ObK7oGKgfl', 'truncated': True, 'entities': {'hashtags': [], 'symbols': [], 'user_mentions': [], 'urls': [{'url': 'https://t.co/ObK7oGKgfl', 'expanded_url': 'https://twitter.com/i/web/status/1269483013240487938', 'display_url': 'twitter.com/i/web/status/1…', 'indices': [102, 125]}]}, 'source': '<a href=\"https://rukeba.com/pythonhub/\" rel=\"nofollow\">PythonHub Publisher</a>', 'in_reply_to_status_id': None, 'in_reply_to_status_id_str': None, 'in_reply_to_user_id': None, 'in_reply_to_user_id_str': None, 'in_reply_to_screen_name': None, 'user': {'id': 574827627, 'id_str': '574827627', 'name': 'Python Hub', 'screen_name': 'PythonHub', 'location': '', 'description': 'News & links about Python programming. \\nSupport on https://t.co/1Dh0iXToNr', 'url': 'https://t.co/bCW8eigFCZ', 'entities': {'url': {'urls': [{'url': 'https://t.co/bCW8eigFCZ', 'expanded_url': 'https://pythonhub.dev', 'display_url': 'pythonhub.dev', 'indices': [0, 23]}]}, 'description': {'urls': [{'url': 'https://t.co/1Dh0iXToNr', 'expanded_url': 'https://www.patreon.com/pythonhub', 'display_url': 'patreon.com/pythonhub', 'indices': [51, 74]}]}}, 'protected': False, 'followers_count': 53296, 'friends_count': 4, 'listed_count': 894, 'created_at': 'Tue May 08 19:54:45 +0000 2012', 'favourites_count': 61, 'utc_offset': None, 'time_zone': None, 'geo_enabled': False, 'verified': False, 'statuses_count': 69378, 'lang': None, 'contributors_enabled': False, 'is_translator': False, 'is_translation_enabled': False, 'profile_background_color': 'C0DEED', 'profile_background_image_url': 'http://abs.twimg.com/images/themes/theme1/bg.png', 'profile_background_image_url_https': 'https://abs.twimg.com/images/themes/theme1/bg.png', 'profile_background_tile': False, 'profile_image_url': 'http://pbs.twimg.com/profile_images/1152895149594284032/wb1uTnTk_normal.jpg', 'profile_image_url_https': 'https://pbs.twimg.com/profile_images/1152895149594284032/wb1uTnTk_normal.jpg', 'profile_banner_url': 'https://pbs.twimg.com/profile_banners/574827627/1566756778', 'profile_link_color': '1DA1F2', 'profile_sidebar_border_color': 'C0DEED', 'profile_sidebar_fill_color': 'DDEEF6', 'profile_text_color': '333333', 'profile_use_background_image': True, 'has_extended_profile': False, 'default_profile': True, 'default_profile_image': False, 'following': False, 'follow_request_sent': False, 'notifications': False, 'translator_type': 'none'}, 'geo': None, 'coordinates': None, 'place': None, 'contributors': None, 'is_quote_status': False, 'retweet_count': 7, 'favorite_count': 30, 'favorited': False, 'retweeted': False, 'possibly_sensitive': False, 'lang': 'en'}, created_at=datetime.datetime(2020, 6, 7, 4, 15, 10), id=1269483013240487938, id_str='1269483013240487938', text='5 Advanced Operations Using Dictionaries in\\xa0Python\\n\\nLevel up your skills when using dictionaries in…… https://t.co/ObK7oGKgfl', truncated=True, entities={'hashtags': [], 'symbols': [], 'user_mentions': [], 'urls': [{'url': 'https://t.co/ObK7oGKgfl', 'expanded_url': 'https://twitter.com/i/web/status/1269483013240487938', 'display_url': 'twitter.com/i/web/status/1…', 'indices': [102, 125]}]}, source='PythonHub Publisher', source_url='https://rukeba.com/pythonhub/', in_reply_to_status_id=None, in_reply_to_status_id_str=None, in_reply_to_user_id=None, in_reply_to_user_id_str=None, in_reply_to_screen_name=None, author=User(_api=<tweepy.api.API object at 0x7fdfb5741b70>, _json={'id': 574827627, 'id_str': '574827627', 'name': 'Python Hub', 'screen_name': 'PythonHub', 'location': '', 'description': 'News & links about Python programming. \\nSupport on https://t.co/1Dh0iXToNr', 'url': 'https://t.co/bCW8eigFCZ', 'entities': {'url': {'urls': [{'url': 'https://t.co/bCW8eigFCZ', 'expanded_url': 'https://pythonhub.dev', 'display_url': 'pythonhub.dev', 'indices': [0, 23]}]}, 'description': {'urls': [{'url': 'https://t.co/1Dh0iXToNr', 'expanded_url': 'https://www.patreon.com/pythonhub', 'display_url': 'patreon.com/pythonhub', 'indices': [51, 74]}]}}, 'protected': False, 'followers_count': 53296, 'friends_count': 4, 'listed_count': 894, 'created_at': 'Tue May 08 19:54:45 +0000 2012', 'favourites_count': 61, 'utc_offset': None, 'time_zone': None, 'geo_enabled': False, 'verified': False, 'statuses_count': 69378, 'lang': None, 'contributors_enabled': False, 'is_translator': False, 'is_translation_enabled': False, 'profile_background_color': 'C0DEED', 'profile_background_image_url': 'http://abs.twimg.com/images/themes/theme1/bg.png', 'profile_background_image_url_https': 'https://abs.twimg.com/images/themes/theme1/bg.png', 'profile_background_tile': False, 'profile_image_url': 'http://pbs.twimg.com/profile_images/1152895149594284032/wb1uTnTk_normal.jpg', 'profile_image_url_https': 'https://pbs.twimg.com/profile_images/1152895149594284032/wb1uTnTk_normal.jpg', 'profile_banner_url': 'https://pbs.twimg.com/profile_banners/574827627/1566756778', 'profile_link_color': '1DA1F2', 'profile_sidebar_border_color': 'C0DEED', 'profile_sidebar_fill_color': 'DDEEF6', 'profile_text_color': '333333', 'profile_use_background_image': True, 'has_extended_profile': False, 'default_profile': True, 'default_profile_image': False, 'following': False, 'follow_request_sent': False, 'notifications': False, 'translator_type': 'none'}, id=574827627, id_str='574827627', name='Python Hub', screen_name='PythonHub', location='', description='News & links about Python programming. \\nSupport on https://t.co/1Dh0iXToNr', url='https://t.co/bCW8eigFCZ', entities={'url': {'urls': [{'url': 'https://t.co/bCW8eigFCZ', 'expanded_url': 'https://pythonhub.dev', 'display_url': 'pythonhub.dev', 'indices': [0, 23]}]}, 'description': {'urls': [{'url': 'https://t.co/1Dh0iXToNr', 'expanded_url': 'https://www.patreon.com/pythonhub', 'display_url': 'patreon.com/pythonhub', 'indices': [51, 74]}]}}, protected=False, followers_count=53296, friends_count=4, listed_count=894, created_at=datetime.datetime(2012, 5, 8, 19, 54, 45), favourites_count=61, utc_offset=None, time_zone=None, geo_enabled=False, verified=False, statuses_count=69378, lang=None, contributors_enabled=False, is_translator=False, is_translation_enabled=False, profile_background_color='C0DEED', profile_background_image_url='http://abs.twimg.com/images/themes/theme1/bg.png', profile_background_image_url_https='https://abs.twimg.com/images/themes/theme1/bg.png', profile_background_tile=False, profile_image_url='http://pbs.twimg.com/profile_images/1152895149594284032/wb1uTnTk_normal.jpg', profile_image_url_https='https://pbs.twimg.com/profile_images/1152895149594284032/wb1uTnTk_normal.jpg', profile_banner_url='https://pbs.twimg.com/profile_banners/574827627/1566756778', profile_link_color='1DA1F2', profile_sidebar_border_color='C0DEED', profile_sidebar_fill_color='DDEEF6', profile_text_color='333333', profile_use_background_image=True, has_extended_profile=False, default_profile=True, default_profile_image=False, following=False, follow_request_sent=False, notifications=False, translator_type='none'), user=User(_api=<tweepy.api.API object at 0x7fdfb5741b70>, _json={'id': 574827627, 'id_str': '574827627', 'name': 'Python Hub', 'screen_name': 'PythonHub', 'location': '', 'description': 'News & links about Python programming. \\nSupport on https://t.co/1Dh0iXToNr', 'url': 'https://t.co/bCW8eigFCZ', 'entities': {'url': {'urls': [{'url': 'https://t.co/bCW8eigFCZ', 'expanded_url': 'https://pythonhub.dev', 'display_url': 'pythonhub.dev', 'indices': [0, 23]}]}, 'description': {'urls': [{'url': 'https://t.co/1Dh0iXToNr', 'expanded_url': 'https://www.patreon.com/pythonhub', 'display_url': 'patreon.com/pythonhub', 'indices': [51, 74]}]}}, 'protected': False, 'followers_count': 53296, 'friends_count': 4, 'listed_count': 894, 'created_at': 'Tue May 08 19:54:45 +0000 2012', 'favourites_count': 61, 'utc_offset': None, 'time_zone': None, 'geo_enabled': False, 'verified': False, 'statuses_count': 69378, 'lang': None, 'contributors_enabled': False, 'is_translator': False, 'is_translation_enabled': False, 'profile_background_color': 'C0DEED', 'profile_background_image_url': 'http://abs.twimg.com/images/themes/theme1/bg.png', 'profile_background_image_url_https': 'https://abs.twimg.com/images/themes/theme1/bg.png', 'profile_background_tile': False, 'profile_image_url': 'http://pbs.twimg.com/profile_images/1152895149594284032/wb1uTnTk_normal.jpg', 'profile_image_url_https': 'https://pbs.twimg.com/profile_images/1152895149594284032/wb1uTnTk_normal.jpg', 'profile_banner_url': 'https://pbs.twimg.com/profile_banners/574827627/1566756778', 'profile_link_color': '1DA1F2', 'profile_sidebar_border_color': 'C0DEED', 'profile_sidebar_fill_color': 'DDEEF6', 'profile_text_color': '333333', 'profile_use_background_image': True, 'has_extended_profile': False, 'default_profile': True, 'default_profile_image': False, 'following': False, 'follow_request_sent': False, 'notifications': False, 'translator_type': 'none'}, id=574827627, id_str='574827627', name='Python Hub', screen_name='PythonHub', location='', description='News & links about Python programming. \\nSupport on https://t.co/1Dh0iXToNr', url='https://t.co/bCW8eigFCZ', entities={'url': {'urls': [{'url': 'https://t.co/bCW8eigFCZ', 'expanded_url': 'https://pythonhub.dev', 'display_url': 'pythonhub.dev', 'indices': [0, 23]}]}, 'description': {'urls': [{'url': 'https://t.co/1Dh0iXToNr', 'expanded_url': 'https://www.patreon.com/pythonhub', 'display_url': 'patreon.com/pythonhub', 'indices': [51, 74]}]}}, protected=False, followers_count=53296, friends_count=4, listed_count=894, created_at=datetime.datetime(2012, 5, 8, 19, 54, 45), favourites_count=61, utc_offset=None, time_zone=None, geo_enabled=False, verified=False, statuses_count=69378, lang=None, contributors_enabled=False, is_translator=False, is_translation_enabled=False, profile_background_color='C0DEED', profile_background_image_url='http://abs.twimg.com/images/themes/theme1/bg.png', profile_background_image_url_https='https://abs.twimg.com/images/themes/theme1/bg.png', profile_background_tile=False, profile_image_url='http://pbs.twimg.com/profile_images/1152895149594284032/wb1uTnTk_normal.jpg', profile_image_url_https='https://pbs.twimg.com/profile_images/1152895149594284032/wb1uTnTk_normal.jpg', profile_banner_url='https://pbs.twimg.com/profile_banners/574827627/1566756778', profile_link_color='1DA1F2', profile_sidebar_border_color='C0DEED', profile_sidebar_fill_color='DDEEF6', profile_text_color='333333', profile_use_background_image=True, has_extended_profile=False, default_profile=True, default_profile_image=False, following=False, follow_request_sent=False, notifications=False, translator_type='none'), geo=None, coordinates=None, place=None, contributors=None, is_quote_status=False, retweet_count=7, favorite_count=30, favorited=False, retweeted=False, possibly_sensitive=False, lang='en')]\n"
          ],
          "name": "stdout"
        }
      ]
    },
    {
      "cell_type": "code",
      "metadata": {
        "id": "nK8JgSrBWzP0",
        "colab_type": "code",
        "colab": {}
      },
      "source": [
        "import numpy as np\n",
        "import pandas as pd"
      ],
      "execution_count": 0,
      "outputs": []
    },
    {
      "cell_type": "code",
      "metadata": {
        "id": "-LgTEQxILldw",
        "colab_type": "code",
        "outputId": "79af58ff-4586-4331-c04c-e2d5d236bbe6",
        "colab": {
          "base_uri": "https://localhost:8080/",
          "height": 243
        }
      },
      "source": [
        "class TwitterClient():\n",
        "    def __init__(self, twitter_user=None):\n",
        "        self.auth = TwitterAuthenticator().authenticate_twitter_app()\n",
        "        self.twitter_client = API(self.auth)\n",
        "        self.twitter_user = twitter_user\n",
        "    def get_twitter_client_api(self):\n",
        "        return self.twitter_client\n",
        "    def get_user_timeline_tweets(self, num_tweets):\n",
        "        tweets = []\n",
        "        for tweet in Cursor(self.twitter_client.user_timeline, id=self.twitter_user).items(num_tweets):\n",
        "            tweets.append(tweet)\n",
        "        return tweets\n",
        "    def get_friend_list(self, num_friends):\n",
        "        friend_list = []\n",
        "        for friend in Cursor(self.twitter_client.friends, id=self.twitter_user).items(num_friends):\n",
        "            friend_list.append(friend)\n",
        "        return friend_list\n",
        "    def get_home_timeline_tweets(self, num_tweets):\n",
        "        home_timeline_tweets = []\n",
        "        for tweet in Cursor(self.twitter_client.home_timeline, id=self.twitter_user).items(num_tweets):\n",
        "            home_timeline_tweets.append(tweet)\n",
        "        return home_timeline_tweets\n",
        "\n",
        "class TwitterAuthenticator():\n",
        "    def authenticate_twitter_app(self):\n",
        "        auth = OAuthHandler(CONSUMER_KEY, CONSUMER_SECRET)\n",
        "        auth.set_access_token(ACCESS_TOKEN, ACCESS_TOKEN_SECRET)\n",
        "        return auth\n",
        "\n",
        "class TwitterStreamer():\n",
        "    def __init__(self):\n",
        "        self.twitter_autenticator = TwitterAuthenticator()    \n",
        "    def stream_tweets(self, fetched_tweets_filename, hash_tag_list):\n",
        "        listener = TwitterListener(fetched_tweets_filename)\n",
        "        auth = self.twitter_autenticator.authenticate_twitter_app() \n",
        "        stream = Stream(auth, listener)\n",
        "        stream.filter(track=hash_tag_list)\n",
        "\n",
        "class TwitterListener(StreamListener):\n",
        "    def __init__(self, fetched_tweets_filename):\n",
        "        self.fetched_tweets_filename = fetched_tweets_filename\n",
        "    def on_data(self, data):\n",
        "        try:\n",
        "            print(data)\n",
        "            with open(self.fetched_tweets_filename, 'a') as tf:\n",
        "                tf.write(data)\n",
        "            return True\n",
        "        except BaseException as e:\n",
        "            print(\"Error on_data %s\" % str(e))\n",
        "        return True\n",
        "    def on_error(self, status):\n",
        "        if status == 420:\n",
        "            return False\n",
        "        print(status)\n",
        "\n",
        "class TweetAnalyzer():\n",
        "    def tweets_to_data_frame(self, tweets):\n",
        "        df = pd.DataFrame(data=[tweet.text for tweet in tweets], columns=['Tweets'])\n",
        "        df['id'] = np.array([tweet.id for tweet in tweets])\n",
        "        df['len'] = np.array([len(tweet.text) for tweet in tweets])\n",
        "        df['date'] = np.array([tweet.created_at for tweet in tweets])\n",
        "        df['source'] = np.array([tweet.source for tweet in tweets])\n",
        "        df['likes'] = np.array([tweet.favorite_count for tweet in tweets])\n",
        "        df['retweets'] = np.array([tweet.retweet_count for tweet in tweets])\n",
        "        return df\n",
        "\n",
        "if __name__ == '__main__':\n",
        "    twitter_client = TwitterClient()\n",
        "    tweet_analyzer = TweetAnalyzer()\n",
        "    api = twitter_client.get_twitter_client_api()\n",
        "    tweets = api.user_timeline(screen_name=\"PythonHub\", count=20)\n",
        "    df = tweet_analyzer.tweets_to_data_frame(tweets)\n",
        "    print(df.head(10))"
      ],
      "execution_count": 12,
      "outputs": [
        {
          "output_type": "stream",
          "text": [
            "                                              Tweets  ...  retweets\n",
            "0  5 Advanced Operations Using Dictionaries in Py...  ...         7\n",
            "1  The Python Standard Library — modules you shou...  ...        13\n",
            "2  Quickly label data in Jupyter Lab\\n\\nUse pigeo...  ...         7\n",
            "3  Stop Using https://t.co/edh0pSPO5m!\\n\\nOne of ...  ...         7\n",
            "4  Rejolut - Top Python Development Company\\n\\nht...  ...         1\n",
            "5  Why `True is False is False` -&gt; False?\\n\\nH...  ...         9\n",
            "6  Ultimate Guide to Python Debugging\\n\\nLet’s ex...  ...        10\n",
            "7  The Future of AI is Open\\n\\nFor this Humans of...  ...         4\n",
            "8  I made a coding interview site with video conf...  ...        13\n",
            "9  Unity-Technologies / ml-agents\\n\\nUnity Machin...  ...         5\n",
            "\n",
            "[10 rows x 7 columns]\n"
          ],
          "name": "stdout"
        }
      ]
    },
    {
      "cell_type": "code",
      "metadata": {
        "id": "8DtoqBxsXPVW",
        "colab_type": "code",
        "colab": {}
      },
      "source": [
        "import matplotlib.pyplot as plt"
      ],
      "execution_count": 0,
      "outputs": []
    },
    {
      "cell_type": "code",
      "metadata": {
        "id": "S5vIdNulOr0w",
        "colab_type": "code",
        "outputId": "6206aac2-e468-4404-a444-30018ccbbea0",
        "colab": {
          "base_uri": "https://localhost:8080/",
          "height": 69
        }
      },
      "source": [
        "class TwitterClient():\n",
        "    def __init__(self, twitter_user=None):\n",
        "        self.auth = TwitterAuthenticator().authenticate_twitter_app()\n",
        "        self.twitter_client = API(self.auth)\n",
        "        self.twitter_user = twitter_user\n",
        "    def get_twitter_client_api(self):\n",
        "        return self.twitter_client\n",
        "    def get_user_timeline_tweets(self, num_tweets):\n",
        "        tweets = []\n",
        "        for tweet in Cursor(self.twitter_client.user_timeline, id=self.twitter_user).items(num_tweets):\n",
        "            tweets.append(tweet)\n",
        "        return tweets\n",
        "    def get_friend_list(self, num_friends):\n",
        "        friend_list = []\n",
        "        for friend in Cursor(self.twitter_client.friends, id=self.twitter_user).items(num_friends):\n",
        "            friend_list.append(friend)\n",
        "        return friend_list\n",
        "    def get_home_timeline_tweets(self, num_tweets):\n",
        "        home_timeline_tweets = []\n",
        "        for tweet in Cursor(self.twitter_client.home_timeline, id=self.twitter_user).items(num_tweets):\n",
        "            home_timeline_tweets.append(tweet)\n",
        "        return home_timeline_tweets\n",
        "\n",
        "class TwitterAuthenticator():\n",
        "    def authenticate_twitter_app(self):\n",
        "        auth = OAuthHandler(CONSUMER_KEY, CONSUMER_SECRET)\n",
        "        auth.set_access_token(ACCESS_TOKEN, ACCESS_TOKEN_SECRET)\n",
        "        return auth\n",
        "\n",
        "class TwitterStreamer():\n",
        "    def __init__(self):\n",
        "        self.twitter_autenticator = TwitterAuthenticator()  \n",
        "    def stream_tweets(self, fetched_tweets_filename, hash_tag_list):\n",
        "        listener = TwitterListener(fetched_tweets_filename)\n",
        "        auth = self.twitter_autenticator.authenticate_twitter_app() \n",
        "        stream = Stream(auth, listener)\n",
        "        stream.filter(track=hash_tag_list)\n",
        "\n",
        "class TwitterListener(StreamListener):\n",
        "    def __init__(self, fetched_tweets_filename):\n",
        "        self.fetched_tweets_filename = fetched_tweets_filename\n",
        "    def on_data(self, data):\n",
        "        try:\n",
        "            print(data)\n",
        "            with open(self.fetched_tweets_filename, 'a') as tf:\n",
        "                tf.write(data)\n",
        "            return True\n",
        "        except BaseException as e:\n",
        "            print(\"Error on_data %s\" % str(e))\n",
        "        return True\n",
        "    def on_error(self, status):\n",
        "        if status==420:\n",
        "            return False\n",
        "        print(status)\n",
        "\n",
        "class TweetAnalyzer():\n",
        "    def tweets_to_data_frame(self, tweets):\n",
        "        df = pd.DataFrame(data=[tweet.text for tweet in tweets], columns=['tweets'])\n",
        "        df['id'] = np.array([tweet.id for tweet in tweets])\n",
        "        df['len'] = np.array([len(tweet.text) for tweet in tweets])\n",
        "        df['date'] = np.array([tweet.created_at for tweet in tweets])\n",
        "        df['source'] = np.array([tweet.source for tweet in tweets])\n",
        "        df['likes'] = np.array([tweet.favorite_count for tweet in tweets])\n",
        "        df['retweets'] = np.array([tweet.retweet_count for tweet in tweets])\n",
        "        return df\n",
        "\n",
        "if __name__ == '__main__':\n",
        "    twitter_client = TwitterClient()\n",
        "    tweet_analyzer = TweetAnalyzer()\n",
        "    api = twitter_client.get_twitter_client_api()\n",
        "    tweets = api.user_timeline(screen_name=\"PythonHub\", count=20)\n",
        "    df = tweet_analyzer.tweets_to_data_frame(tweets)\n",
        "    print(np.mean(df['len']))\n",
        "    print(np.max(df['likes']))\n",
        "    print(np.max(df['retweets']))"
      ],
      "execution_count": 14,
      "outputs": [
        {
          "output_type": "stream",
          "text": [
            "122.85\n",
            "91\n",
            "33\n"
          ],
          "name": "stdout"
        }
      ]
    },
    {
      "cell_type": "code",
      "metadata": {
        "id": "8yI5MiIZQASi",
        "colab_type": "code",
        "colab": {}
      },
      "source": [
        "from textblob import TextBlob\n",
        "import re"
      ],
      "execution_count": 0,
      "outputs": []
    },
    {
      "cell_type": "code",
      "metadata": {
        "id": "ab_nBnJcQBAb",
        "colab_type": "code",
        "outputId": "c1335a2f-7ca4-430a-93b6-c9d9930810f7",
        "colab": {
          "base_uri": "https://localhost:8080/",
          "height": 243
        }
      },
      "source": [
        "class TwitterClient():\n",
        "    def __init__(self, twitter_user=None):\n",
        "        self.auth = TwitterAuthenticator().authenticate_twitter_app()\n",
        "        self.twitter_client = API(self.auth)\n",
        "        self.twitter_user = twitter_user\n",
        "    def get_twitter_client_api(self):\n",
        "        return self.twitter_client\n",
        "    def get_user_timeline_tweets(self, num_tweets):\n",
        "        tweets = []\n",
        "        for tweet in Cursor(self.twitter_client.user_timeline, id=self.twitter_user).items(num_tweets):\n",
        "            tweets.append(tweet)\n",
        "        return tweets\n",
        "    def get_friend_list(self, num_friends):\n",
        "        friend_list = []\n",
        "        for friend in Cursor(self.twitter_client.friends, id=self.twitter_user).items(num_friends):\n",
        "            friend_list.append(friend)\n",
        "        return friend_list\n",
        "    def get_home_timeline_tweets(self, num_tweets):\n",
        "        home_timeline_tweets = []\n",
        "        for tweet in Cursor(self.twitter_client.home_timeline, id=self.twitter_user).items(num_tweets):\n",
        "            home_timeline_tweets.append(tweet)\n",
        "        return home_timeline_tweets\n",
        "\n",
        "class TwitterAuthenticator():\n",
        "    def authenticate_twitter_app(self):\n",
        "        auth = OAuthHandler(CONSUMER_KEY, CONSUMER_SECRET)\n",
        "        auth.set_access_token(ACCESS_TOKEN, ACCESS_TOKEN_SECRET)\n",
        "        return auth\n",
        "\n",
        "class TwitterStreamer():\n",
        "    def __init__(self):\n",
        "        self.twitter_autenticator = TwitterAuthenticator()  \n",
        "    def stream_tweets(self, fetched_tweets_filename, hash_tag_list):\n",
        "        listener = TwitterListener(fetched_tweets_filename)\n",
        "        auth = self.twitter_autenticator.authenticate_twitter_app() \n",
        "        stream = Stream(auth, listener)\n",
        "        stream.filter(track=hash_tag_list)\n",
        "\n",
        "class TwitterListener(StreamListener):\n",
        "    def __init__(self, fetched_tweets_filename):\n",
        "        self.fetched_tweets_filename = fetched_tweets_filename\n",
        "    def on_data(self, data):\n",
        "        try:\n",
        "            print(data)\n",
        "            with open(self.fetched_tweets_filename, 'a') as tf:\n",
        "                tf.write(data)\n",
        "            return True\n",
        "        except BaseException as e:\n",
        "            print(\"Error on_data %s\" % str(e))\n",
        "        return True\n",
        "    def on_error(self, status):\n",
        "      if status==420:\n",
        "            return False\n",
        "      print(status)\n",
        "\n",
        "class TweetAnalyzer():\n",
        "    def clean_tweet(self, tweet):\n",
        "        return ' '.join(re.sub(\"(@[A-Za-z0-9]+)|([^0-9A-Za-z \\t])|(\\w+:\\/\\/\\S+)\", \" \", tweet).split())\n",
        "    def analyze_sentiment(self, tweet):\n",
        "        analysis = TextBlob(self.clean_tweet(tweet)) \n",
        "        if analysis.sentiment.polarity > 0:\n",
        "            return 1\n",
        "        elif analysis.sentiment.polarity == 0:\n",
        "            return 0\n",
        "        else:\n",
        "            return -1\n",
        "\n",
        "\n",
        "    \n",
        "    def tweets_to_data_frame(self, tweets):\n",
        "        df = pd.DataFrame(data=[tweet.text for tweet in tweets], columns=['tweets'])\n",
        "        df['id'] = np.array([tweet.id for tweet in tweets])\n",
        "        df['len'] = np.array([len(tweet.text) for tweet in tweets])\n",
        "        df['date'] = np.array([tweet.created_at for tweet in tweets])\n",
        "        df['source'] = np.array([tweet.source for tweet in tweets])\n",
        "        df['likes'] = np.array([tweet.favorite_count for tweet in tweets])\n",
        "        df['retweets'] = np.array([tweet.retweet_count for tweet in tweets])\n",
        "        return df\n",
        "\n",
        "if __name__ == '__main__':\n",
        "    twitter_client = TwitterClient()\n",
        "    tweet_analyzer = TweetAnalyzer()\n",
        "    api = twitter_client.get_twitter_client_api()\n",
        "    tweets = api.user_timeline(screen_name=\"PythonHub\", count=20)\n",
        "    df = tweet_analyzer.tweets_to_data_frame(tweets)\n",
        "    df['sentiment'] = np.array([tweet_analyzer.analyze_sentiment(tweet) for tweet in df['tweets']])\n",
        "    print(df.head(10))"
      ],
      "execution_count": 16,
      "outputs": [
        {
          "output_type": "stream",
          "text": [
            "                                              tweets  ...  sentiment\n",
            "0  5 Advanced Operations Using Dictionaries in Py...  ...          1\n",
            "1  The Python Standard Library — modules you shou...  ...          0\n",
            "2  Quickly label data in Jupyter Lab\\n\\nUse pigeo...  ...          1\n",
            "3  Stop Using https://t.co/edh0pSPO5m!\\n\\nOne of ...  ...          1\n",
            "4  Rejolut - Top Python Development Company\\n\\nht...  ...          1\n",
            "5  Why `True is False is False` -&gt; False?\\n\\nH...  ...         -1\n",
            "6  Ultimate Guide to Python Debugging\\n\\nLet’s ex...  ...          0\n",
            "7  The Future of AI is Open\\n\\nFor this Humans of...  ...          1\n",
            "8  I made a coding interview site with video conf...  ...         -1\n",
            "9  Unity-Technologies / ml-agents\\n\\nUnity Machin...  ...          0\n",
            "\n",
            "[10 rows x 8 columns]\n"
          ],
          "name": "stdout"
        }
      ]
    }
  ]
}